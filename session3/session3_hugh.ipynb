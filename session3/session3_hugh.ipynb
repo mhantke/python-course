{
 "cells": [
  {
   "cell_type": "markdown",
   "metadata": {},
   "source": [
    "Author: ****"
   ]
  },
  {
   "cell_type": "markdown",
   "metadata": {},
   "source": [
    "# 3. Reading and writing files"
   ]
  },
  {
   "cell_type": "markdown",
   "metadata": {},
   "source": [
    "### Goals\n",
    "\n",
    "- reading the atom coordinates from a PDB file\n",
    "- output value tables to a text file\n",
    "- learning to do calculations with *numpy arrays*\n",
    "- first plotting with *matplitlib*"
   ]
  },
  {
   "cell_type": "markdown",
   "metadata": {},
   "source": [
    "### Introduction\n",
    "\n",
    "#### ATOM data in PDB files\n",
    "\n",
    "The PDB file format contains information about atom species and positions. This information is found in lines starting with ``ATOM``. Each of these lines has the same amount of characters and has the following format:\n",
    "\n",
    "| Characters | Type                                  | Data type        |       \n",
    "|------------|---------------------------------------|------------------|\n",
    "| 1 - 6      | Record name «ATOM»                    | String           |\n",
    "| 7-11       | Serial atom number                    | Integer          |\n",
    "| 13-16      | Atom name                             | String           |\n",
    "| 17         | Alternate location                    | String           |\n",
    "| 18-20      | Residue name                          | String           |\n",
    "| 22         | Chain identifier                      | String           |\n",
    "| 23-26      | Residue sequence nb.                  | Integer          |\n",
    "| 27         | Code for residues insertion           | String           |\n",
    "| 31-38      | X coordinate in Å                     | Float            |\n",
    "| 39-46      | Y coordinate in Å                     | Float            |\n",
    "| 47-54      | Z coordinate in Å                     | Float            |\n",
    "| 55-60      | Occupancy                             | Float            |\n",
    "| 61-66      | Temperature factor                    | Float            |\n",
    "| 77-78      | Element symbol                        | String           |\n",
    "| 79-80      | Charge                                | String           |\n",
    "\n",
    "Further reading: http://www.wwpdb.org/documentation/file-format-content/format33/v3.3.html\n",
    "\n",
    "**Note:** With PDB files, splitting the lines in their individual columns using the function ``line.split()`` is dangerous: use character positions instead!"
   ]
  },
  {
   "cell_type": "markdown",
   "metadata": {},
   "source": [
    "### *TASK 1*\n",
    "\n",
    "In this folder you will find the PDB file for Proaerolysin (``1PRE.pdb``). Open the file, and print all the lines containing a cysteine (residue name \"CYS\"). \n",
    "\n",
    "**Note:** Remember that in *Python* one starts counting from 0, not 1!"
   ]
  },
  {
   "cell_type": "code",
   "execution_count": 22,
   "metadata": {},
   "outputs": [
    {
     "name": "stdout",
     "output_type": "stream",
     "text": [
      "<_io.TextIOWrapper name='1PRE.pdb' mode='r' encoding='cp1252'>\n",
      "745\n",
      "746\n",
      "747\n",
      "748\n",
      "749\n",
      "750\n",
      "1170\n",
      "1171\n",
      "1172\n",
      "1173\n",
      "1174\n",
      "1175\n",
      "1820\n",
      "1821\n",
      "1822\n",
      "1823\n",
      "1824\n",
      "1825\n",
      "1861\n",
      "1862\n",
      "1863\n",
      "1864\n",
      "1865\n",
      "1866\n",
      "4269\n",
      "4270\n",
      "4271\n",
      "4272\n",
      "4273\n",
      "4274\n",
      "4694\n",
      "4695\n",
      "4696\n",
      "4697\n",
      "4698\n",
      "4699\n",
      "5344\n",
      "5345\n",
      "5346\n",
      "5347\n",
      "5348\n",
      "5349\n",
      "5385\n",
      "5386\n",
      "5387\n",
      "5388\n",
      "5389\n",
      "5390\n"
     ]
    }
   ],
   "source": [
    "pdb = open(\"1PRE.pdb\", \"r\") \n",
    "lines = list(pdb.readlines())\n",
    "print(pdb)\n",
    "pdb.close()\n",
    "for i, line in enumerate(lines):\n",
    "    if line[17:20] == \"CYS\":\n",
    "        print(i)"
   ]
  },
  {
   "cell_type": "markdown",
   "metadata": {},
   "source": [
    "### *TASK 2*\n",
    "\n",
    "Parse ``1PRE.pdb`` and write the $x$, $y$ and $z$ coordinates of all the cysteines to the output file ``atoms_cys.txt``. Use [*f-strings*](https://www.blog.pythonlibrary.org/2018/03/13/python-3-an-intro-to-f-strings/) to generate one string for each line ending with a newline character ``\\n``.\n",
    "\n",
    "**Advanced:** Make sure that columns are aligned."
   ]
  },
  {
   "cell_type": "code",
   "execution_count": 106,
   "metadata": {
    "scrolled": false
   },
   "outputs": [
    {
     "name": "stdout",
     "output_type": "stream",
     "text": [
      "[[ 13.459  82.83   13.459]\n",
      " [ 12.542  81.712  12.542]\n",
      " [ 11.546  81.89   11.546]\n",
      " [ 11.397  82.988  11.397]\n",
      " [ 11.74   81.685  11.74 ]\n",
      " [ 12.815  81.107  12.815]\n",
      " [ 13.304  76.65   13.304]\n",
      " [ 12.218  77.532  12.218]\n",
      " [ 11.06   76.742  11.06 ]\n",
      " [ 11.022  75.512  11.022]\n",
      " [ 11.76   78.281  11.76 ]\n",
      " [ 13.153  79.155  13.153]\n",
      " [-34.683  48.263 -34.683]\n",
      " [-33.997  49.53  -33.997]\n",
      " [-34.829  50.797 -34.829]\n",
      " [-36.037  50.849 -36.037]\n",
      " [-32.829  49.678 -32.829]\n",
      " [-33.275  49.564 -33.275]\n",
      " [-33.025  52.464 -33.025]\n",
      " [-31.971  52.007 -31.971]\n",
      " [-31.642  50.547 -31.642]\n",
      " [-30.709  50.075 -30.709]\n",
      " [-32.142  52.251 -32.142]\n",
      " [-33.612  51.54  -33.612]\n",
      " [ 17.737  73.52   17.737]\n",
      " [ 18.669  73.085  18.669]\n",
      " [ 19.747  74.16   19.747]\n",
      " [ 19.92   74.938  19.92 ]\n",
      " [ 19.421  71.86   19.421]\n",
      " [ 18.646  70.235  18.646]\n",
      " [ 18.284  67.714  18.284]\n",
      " [ 19.436  67.773  19.436]\n",
      " [ 20.647  66.978  20.647]\n",
      " [ 20.941  66.772  20.941]\n",
      " [ 19.759  69.237  19.759]\n",
      " [ 18.303  70.128  18.303]\n",
      " [ 65.931  40.911  65.931]\n",
      " [ 65.302  41.248  65.302]\n",
      " [ 66.332  41.648  66.332]\n",
      " [ 67.553  41.729  67.553]\n",
      " [ 64.291  42.383  64.291]\n",
      " [ 65.036  43.979  65.036]\n",
      " [ 64.657  47.952  64.657]\n",
      " [ 63.676  46.891  63.676]\n",
      " [ 63.314  46.637  63.314]\n",
      " [ 62.193  46.172  62.193]\n",
      " [ 64.068  45.624  64.068]\n",
      " [ 65.516  44.746  65.516]]\n"
     ]
    }
   ],
   "source": [
    "import numpy as np\n",
    "pdb = open(\"1PRE.pdb\", \"r\") \n",
    "lines = list(pdb.readlines())\n",
    "pdb.close()\n",
    "cys_container = []\n",
    "for i, line in enumerate(lines):\n",
    "    #print(i, line)\n",
    "    if line[17:20] == \"CYS\":\n",
    "        x = float(line[30:38])\n",
    "        y = float(line[38:46])\n",
    "        z = float(line[46:54])\n",
    "        cys_container.append([x, y, x])\n",
    "cys_container = np.array(cys_container)\n",
    "print(cys_container)\n",
    "\n",
    "with open('outfile.txt', 'w') as f:\n",
    "    for x, y, z in  cys_container:\n",
    "        f.write(f\"{x} {y} {z}\\n\")"
   ]
  },
  {
   "cell_type": "code",
   "execution_count": 101,
   "metadata": {},
   "outputs": [
    {
     "name": "stdout",
     "output_type": "stream",
     "text": [
      "13.459 82.83 23.23\n",
      "\n",
      "12.542 81.712 23.122\n",
      "\n",
      "11.546 81.89 21.995\n",
      "\n",
      "11.397 82.988 21.465\n",
      "\n",
      "11.74 81.685 24.443\n",
      "\n",
      "12.815 81.107 25.8\n",
      "\n",
      "13.304 76.65 26.884\n",
      "\n",
      "12.218 77.532 27.304\n",
      "\n",
      "11.06 76.742 27.879\n",
      "\n",
      "11.022 75.512 27.695\n",
      "\n",
      "11.76 78.281 26.056\n",
      "\n",
      "13.153 79.155 25.299\n",
      "\n",
      "-34.683 48.263 43.646\n",
      "\n",
      "-33.997 49.53 43.913\n",
      "\n",
      "-34.829 50.797 43.898\n",
      "\n",
      "-36.037 50.849 43.733\n",
      "\n",
      "-32.829 49.678 42.916\n",
      "\n",
      "-33.275 49.564 41.147\n",
      "\n",
      "-33.025 52.464 37.669\n",
      "\n",
      "-31.971 52.007 38.53\n",
      "\n",
      "-31.642 50.547 38.331\n",
      "\n",
      "-30.709 50.075 38.978\n",
      "\n",
      "-32.142 52.251 40.022\n",
      "\n",
      "-33.612 51.54 40.736\n",
      "\n",
      "17.737 73.52 9.02\n",
      "\n",
      "18.669 73.085 10.077\n",
      "\n",
      "19.747 74.16 10.288\n",
      "\n",
      "19.92 74.938 9.349\n",
      "\n",
      "19.421 71.86 9.535\n",
      "\n",
      "18.646 70.235 9.589\n",
      "\n",
      "18.284 67.714 13.303\n",
      "\n",
      "19.436 67.773 12.391\n",
      "\n",
      "20.647 66.978 12.853\n",
      "\n",
      "20.941 66.772 14.033\n",
      "\n",
      "19.759 69.237 12.197\n",
      "\n",
      "18.303 70.128 11.605\n",
      "\n",
      "65.931 40.911 32.854\n",
      "\n",
      "65.302 41.248 31.584\n",
      "\n",
      "66.332 41.648 30.537\n",
      "\n",
      "67.553 41.729 30.74\n",
      "\n",
      "64.291 42.383 31.857\n",
      "\n",
      "65.036 43.979 32.268\n",
      "\n",
      "64.657 47.952 30.508\n",
      "\n",
      "63.676 46.891 30.597\n",
      "\n",
      "63.314 46.637 32.044\n",
      "\n",
      "62.193 46.172 32.274\n",
      "\n",
      "64.068 45.624 29.849\n",
      "\n",
      "65.516 44.746 30.432\n",
      "\n"
     ]
    }
   ],
   "source": [
    "with open('outfile.txt', 'r') as f:\n",
    "    for l in f.readlines():\n",
    "        print(l)"
   ]
  },
  {
   "cell_type": "markdown",
   "metadata": {},
   "source": [
    "### *TASK 3*\n",
    "\n",
    "Define a function ``read_pdb(filename)`` that expects as input parameter a PDB filename and that returns four *numpy arrays* containing\n",
    "- the $x$ coordinates\n",
    "- the $y$ coordinates\n",
    "- the $z$ coordinates\n",
    "- the atomic numbers (proton numbers)\n",
    "\n",
    "**Advanced:** Save the function in another file called ``pdb_``*yourname*``.py``, import and call it."
   ]
  },
  {
   "cell_type": "code",
   "execution_count": 117,
   "metadata": {},
   "outputs": [
    {
     "name": "stdout",
     "output_type": "stream",
     "text": [
      "[[ 1.0000e+00  5.9550e+00  7.7192e+01  4.1900e+01]\n",
      " [ 2.0000e+00  5.0610e+00  7.6430e+01  4.0975e+01]\n",
      " [ 3.0000e+00  5.8430e+00  7.5299e+01  4.0293e+01]\n",
      " ...\n",
      " [ 7.0550e+03 -1.1762e+01  7.6732e+01  4.3104e+01]\n",
      " [ 7.0560e+03 -1.1630e+01  7.6829e+01  4.1859e+01]\n",
      " [ 7.0570e+03 -1.2493e+01  7.8663e+01  4.4602e+01]]\n"
     ]
    }
   ],
   "source": [
    "# Import of numpy\n",
    "import numpy\n",
    "\n",
    "\n",
    "def read_pdb(pdb):\n",
    "    container = []\n",
    "    with open(\"1PRE.pdb\", 'r') as f:\n",
    "        lines = list(f.readlines())\n",
    "        for i, line in enumerate(lines):\n",
    "            if line.startswith(\"ATOM\"):\n",
    "                n = float(line[6:11])\n",
    "                x = float(line[30:38])\n",
    "                y = float(line[38:46])\n",
    "                z = float(line[46:54])\n",
    "                container.append([n, x, y, z])\n",
    "    container = np.array(container)\n",
    "    return(container)\n",
    "\n",
    "output = read_pdb(\"1PRE.pdb\")    \n",
    "print(output)\n"
   ]
  },
  {
   "cell_type": "code",
   "execution_count": 23,
   "metadata": {},
   "outputs": [],
   "source": [
    "# TYPE YOUR SOLUTION HERE"
   ]
  },
  {
   "cell_type": "markdown",
   "metadata": {},
   "source": [
    "### *TASK 4*\n",
    "\n",
    "Use the *matplotlib* function [*matplotlib.pyplot.scatter* ](https://matplotlib.org/api/_as_gen/matplotlib.pyplot.scatter.html) to visualise the $x$ and $y$ coordinates of Proaerolysin.\n",
    "\n",
    "**Advanced:** Plot each element in a different color."
   ]
  },
  {
   "cell_type": "code",
   "execution_count": null,
   "metadata": {},
   "outputs": [],
   "source": [
    "# Magic import of the matplotlib package for activating plotting in the notebook\n",
    "import matplotlib\n",
    "%matplotlib inline"
   ]
  },
  {
   "cell_type": "code",
   "execution_count": 24,
   "metadata": {},
   "outputs": [],
   "source": [
    "# TYPE YOUR SOLUTION HERE"
   ]
  },
  {
   "cell_type": "markdown",
   "metadata": {},
   "source": [
    "### *EXTRA TASK*\n",
    "\n",
    "The radius of gyration of a molecule of $N$ atoms is defined as\n",
    "    \n",
    "$$R_g = \\sqrt{\\frac{\\sum_i^N m_i r_i^2}{\\sum_i^N m_i}}$$\n",
    "\n",
    "where $m_i$ is mass of atom $i$ and $r_i$ is the distance of atom $i$ from the molecule's center of mass\n",
    "\n",
    "$$\\vec{r_0} = \\frac{\\sum_i^N m_i \\vec{r_i}}{\\sum_i^N m_i}$$\n",
    "\n",
    "Estimate the size of Proaerolysin by calculating the radius of gyration on the basis of only its carbon atoms.\n",
    "\n",
    "**Advanced:** Consider atoms of all elements for this calculation."
   ]
  },
  {
   "cell_type": "code",
   "execution_count": 25,
   "metadata": {},
   "outputs": [],
   "source": [
    "# TYPE YOUR SOLUTION HERE"
   ]
  }
 ],
 "metadata": {
  "kernelspec": {
   "display_name": "Python 3",
   "language": "python",
   "name": "python3"
  },
  "language_info": {
   "codemirror_mode": {
    "name": "ipython",
    "version": 3
   },
   "file_extension": ".py",
   "mimetype": "text/x-python",
   "name": "python",
   "nbconvert_exporter": "python",
   "pygments_lexer": "ipython3",
   "version": "3.6.5"
  }
 },
 "nbformat": 4,
 "nbformat_minor": 2
}
