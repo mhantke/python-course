{
 "cells": [
  {
   "cell_type": "markdown",
   "metadata": {},
   "source": [
    "Author: Tim Beard"
   ]
  },
  {
   "cell_type": "markdown",
   "metadata": {},
   "source": [
    "# 3. Reading and writing files"
   ]
  },
  {
   "cell_type": "markdown",
   "metadata": {},
   "source": [
    "### Goals\n",
    "\n",
    "- reading the atom coordinates from a PDB file\n",
    "- output value tables to a text file\n",
    "- learning to do calculations with *numpy arrays*\n",
    "- first plotting with *matplitlib*"
   ]
  },
  {
   "cell_type": "markdown",
   "metadata": {},
   "source": [
    "### Introduction\n",
    "\n",
    "#### ATOM data in PDB files\n",
    "\n",
    "The PDB file format contains information about atom species and positions. This information is found in lines starting with ``ATOM``. Each of these lines has the same amount of characters and has the following format:\n",
    "\n",
    "| Characters | Type                                  | Data type        |       \n",
    "|------------|---------------------------------------|------------------|\n",
    "| 1 - 6      | Record name «ATOM»                    | String           |\n",
    "| 7-11       | Serial atom number                    | Integer          |\n",
    "| 13-16      | Atom name                             | String           |\n",
    "| 17         | Alternate location                    | String           |\n",
    "| 18-20      | Residue name                          | String           |\n",
    "| 22         | Chain identifier                      | String           |\n",
    "| 23-26      | Residue sequence nb.                  | Integer          |\n",
    "| 27         | Code for residues insertion           | String           |\n",
    "| 31-38      | X coordinate in Å                     | Float            |\n",
    "| 39-46      | Y coordinate in Å                     | Float            |\n",
    "| 47-54      | Z coordinate in Å                     | Float            |\n",
    "| 55-60      | Occupancy                             | Float            |\n",
    "| 61-66      | Temperature factor                    | Float            |\n",
    "| 77-78      | Element symbol                        | String           |\n",
    "| 79-80      | Charge                                | String           |\n",
    "\n",
    "Further reading: http://www.wwpdb.org/documentation/file-format-content/format33/v3.3.html\n",
    "\n",
    "**Note:** With PDB files, splitting the lines in their individual columns using the function ``line.split()`` is dangerous: use character positions instead!"
   ]
  },
  {
   "cell_type": "markdown",
   "metadata": {},
   "source": [
    "### *TASK 1*\n",
    "\n",
    "In this folder you will find the PDB file for Proaerolysin (``1PRE.pdb``). Open the file, and print all the lines containing a cysteine (residue name \"CYS\"). \n",
    "\n",
    "**Note:** Remember that in *Python* one starts counting from 0, not 1!"
   ]
  },
  {
   "cell_type": "code",
   "execution_count": 21,
   "metadata": {},
   "outputs": [],
   "source": [
    "# TYPE YOUR SOLUTION HERE"
   ]
  },
  {
   "cell_type": "markdown",
   "metadata": {},
   "source": [
    "### *TASK 2*\n",
    "\n",
    "Parse ``1PRE.pdb`` and write the $x$, $y$ and $z$ coordinates of all the cysteines to the output file ``atoms_cys.txt``. Use [*f-strings*](https://www.blog.pythonlibrary.org/2018/03/13/python-3-an-intro-to-f-strings/) to generate one string for each line ending with a newline character ``\\n``.\n",
    "\n",
    "**Advanced:** Make sure that columns are aligned."
   ]
  },
  {
   "cell_type": "code",
   "execution_count": 22,
   "metadata": {
    "collapsed": true
   },
   "outputs": [],
   "source": [
    "# TYPE YOUR SOLUTION HERE"
   ]
  },
  {
   "cell_type": "markdown",
   "metadata": {},
   "source": [
    "### *TASK 3*\n",
    "\n",
    "Define a function ``read_pdb(filename)`` that expects as input parameter a PDB filename and that returns four *numpy arrays* containing\n",
    "- the $x$ coordinates\n",
    "- the $y$ coordinates\n",
    "- the $z$ coordinates\n",
    "- the atomic numbers (proton numbers)\n",
    "\n",
    "**Advanced:** Save the function in another file called ``pdb_``*yourname*``.py``, import and call it."
   ]
  },
  {
   "cell_type": "code",
   "execution_count": 3,
   "metadata": {},
   "outputs": [],
   "source": [
    "# Import of numpy\n",
    "import numpy"
   ]
  },
  {
   "cell_type": "code",
   "execution_count": 23,
   "metadata": {},
   "outputs": [],
   "source": [
    "# TYPE YOUR SOLUTION HERE"
   ]
  },
  {
   "cell_type": "markdown",
   "metadata": {},
   "source": [
    "### *TASK 4*\n",
    "\n",
    "Use the *matplotlib* function [*matplotlib.pyplot.scatter* ](https://matplotlib.org/api/_as_gen/matplotlib.pyplot.scatter.html) to visualise the $x$ and $y$ coordinates of Proaerolysin.\n",
    "\n",
    "**Advanced:** Plot each element in a different color."
   ]
  },
  {
   "cell_type": "code",
   "execution_count": null,
   "metadata": {},
   "outputs": [],
   "source": [
    "# Magic import of the matplotlib package for activating plotting in the notebook\n",
    "import matplotlib\n",
    "%matplotlib inline"
   ]
  },
  {
   "cell_type": "code",
   "execution_count": 24,
   "metadata": {},
   "outputs": [],
   "source": [
    "# TYPE YOUR SOLUTION HERE"
   ]
  },
  {
   "cell_type": "markdown",
   "metadata": {},
   "source": [
    "### *EXTRA TASK*\n",
    "\n",
    "The radius of gyration of a molecule of $N$ atoms is defined as\n",
    "    \n",
    "$$R_g = \\sqrt{\\frac{\\sum_i^N m_i r_i^2}{\\sum_i^N m_i}}$$\n",
    "\n",
    "where $m_i$ is mass of atom $i$ and $r_i$ is the distance of atom $i$ from the molecule's center of mass\n",
    "\n",
    "$$\\vec{r_0} = \\frac{\\sum_i^N m_i \\vec{r_i}}{\\sum_i^N m_i}$$\n",
    "\n",
    "Estimate the size of Proaerolysin by calculating the radius of gyration on the basis of only its carbon atoms.\n",
    "\n",
    "**Advanced:** Consider atoms of all elements for this calculation."
   ]
  },
  {
   "cell_type": "code",
   "execution_count": 25,
   "metadata": {},
   "outputs": [],
   "source": [
    "# TYPE YOUR SOLUTION HERE"
   ]
  }
 ],
 "metadata": {
  "kernelspec": {
   "display_name": "Python 3",
   "language": "python",
   "name": "python3"
  },
  "language_info": {
   "codemirror_mode": {
    "name": "ipython",
    "version": 3
   },
   "file_extension": ".py",
   "mimetype": "text/x-python",
   "name": "python",
   "nbconvert_exporter": "python",
   "pygments_lexer": "ipython3",
   "version": "3.6.5"
  }
 },
 "nbformat": 4,
 "nbformat_minor": 2
}
