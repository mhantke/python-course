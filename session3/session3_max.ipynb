{
 "cells": [
  {
   "cell_type": "markdown",
   "metadata": {},
   "source": [
    "Author: ****"
   ]
  },
  {
   "cell_type": "markdown",
   "metadata": {},
   "source": [
    "# 3. Reading and writing files"
   ]
  },
  {
   "cell_type": "markdown",
   "metadata": {},
   "source": [
    "### Goals\n",
    "\n",
    "- reading the atom coordinates from a PDB file\n",
    "- output value tables to a text file\n",
    "- learning to do calculations with *numpy arrays*\n",
    "- first plotting with *matplitlib*"
   ]
  },
  {
   "cell_type": "markdown",
   "metadata": {},
   "source": [
    "### Introduction\n",
    "\n",
    "#### ATOM data in PDB files\n",
    "\n",
    "The PDB file format contains information about atom species and positions. This information is found in lines starting with ``ATOM``. Each of these lines has the same amount of characters and has the following format:\n",
    "\n",
    "| Characters | Type                                  | Data type        |       \n",
    "|------------|---------------------------------------|------------------|\n",
    "| 1 - 6      | Record name «ATOM»                    | String           |\n",
    "| 7-11       | Serial atom number                    | Integer          |\n",
    "| 13-16      | Atom name                             | String           |\n",
    "| 17         | Alternate location                    | String           |\n",
    "| 18-20      | Residue name                          | String           |\n",
    "| 22         | Chain identifier                      | String           |\n",
    "| 23-26      | Residue sequence nb.                  | Integer          |\n",
    "| 27         | Code for residues insertion           | String           |\n",
    "| 31-38      | X coordinate in Å                     | Float            |\n",
    "| 39-46      | Y coordinate in Å                     | Float            |\n",
    "| 47-54      | Z coordinate in Å                     | Float            |\n",
    "| 55-60      | Occupancy                             | Float            |\n",
    "| 61-66      | Temperature factor                    | Float            |\n",
    "| 77-78      | Element symbol (right justified!)     | String           |\n",
    "| 79-80      | Charge                                | String           |\n",
    "\n",
    "Further reading: http://www.wwpdb.org/documentation/file-format-content/format33/v3.3.html\n",
    "\n",
    "**Note:** With PDB files, splitting the lines in their individual columns using the function ``line.split()`` is dangerous: use character positions instead!"
   ]
  },
  {
   "cell_type": "markdown",
   "metadata": {},
   "source": [
    "### *TASK 1*\n",
    "\n",
    "In this folder you will find the PDB file for Proaerolysin (``1PRE.pdb``). Open the file, and print all the lines containing a cysteine (residue name \"CYS\"). \n",
    "\n",
    "**Note:** Remember that in *Python* one starts counting from 0, not 1!"
   ]
  },
  {
   "cell_type": "code",
   "execution_count": 6,
   "metadata": {},
   "outputs": [
    {
     "name": "stdout",
     "output_type": "stream",
     "text": [
      "ATOM    136  N   CYS A  19      13.459  82.830  23.230  1.00 33.86           N  \n",
      "\n",
      "ATOM    137  CA  CYS A  19      12.542  81.712  23.122  1.00 33.54           C  \n",
      "\n",
      "ATOM    138  C   CYS A  19      11.546  81.890  21.995  1.00 34.09           C  \n",
      "\n",
      "ATOM    139  O   CYS A  19      11.397  82.988  21.465  1.00 34.19           O  \n",
      "\n",
      "ATOM    140  CB  CYS A  19      11.740  81.685  24.443  1.00 32.44           C  \n",
      "\n",
      "ATOM    141  SG  CYS A  19      12.815  81.107  25.800  1.00 31.70           S  \n",
      "\n",
      "ATOM    561  N   CYS A  75      13.304  76.650  26.884  1.00 28.69           N  \n",
      "\n",
      "ATOM    562  CA  CYS A  75      12.218  77.532  27.304  1.00 30.01           C  \n",
      "\n",
      "ATOM    563  C   CYS A  75      11.060  76.742  27.879  1.00 30.85           C  \n",
      "\n",
      "ATOM    564  O   CYS A  75      11.022  75.512  27.695  1.00 31.27           O  \n",
      "\n",
      "ATOM    565  CB  CYS A  75      11.760  78.281  26.056  1.00 30.28           C  \n",
      "\n",
      "ATOM    566  SG  CYS A  75      13.153  79.155  25.299  1.00 30.92           S  \n",
      "\n",
      "ATOM   1211  N   CYS A 159     -34.683  48.263  43.646  1.00 50.56           N  \n",
      "\n",
      "ATOM   1212  CA  CYS A 159     -33.997  49.530  43.913  1.00 50.39           C  \n",
      "\n",
      "ATOM   1213  C   CYS A 159     -34.829  50.797  43.898  1.00 50.72           C  \n",
      "\n",
      "ATOM   1214  O   CYS A 159     -36.037  50.849  43.733  1.00 50.46           O  \n",
      "\n",
      "ATOM   1215  CB  CYS A 159     -32.829  49.678  42.916  1.00 49.85           C  \n",
      "\n",
      "ATOM   1216  SG  CYS A 159     -33.275  49.564  41.147  1.00 49.34           S  \n",
      "\n",
      "ATOM   1252  N   CYS A 164     -33.025  52.464  37.669  1.00 44.04           N  \n",
      "\n",
      "ATOM   1253  CA  CYS A 164     -31.971  52.007  38.530  1.00 43.84           C  \n",
      "\n",
      "ATOM   1254  C   CYS A 164     -31.642  50.547  38.331  1.00 42.23           C  \n",
      "\n",
      "ATOM   1255  O   CYS A 164     -30.709  50.075  38.978  1.00 42.56           O  \n",
      "\n",
      "ATOM   1256  CB  CYS A 164     -32.142  52.251  40.022  1.00 45.82           C  \n",
      "\n",
      "ATOM   1257  SG  CYS A 164     -33.612  51.540  40.736  1.00 48.57           S  \n",
      "\n",
      "ATOM   3660  N   CYS B  19      17.737  73.520   9.020  1.00 26.76           N  \n",
      "\n",
      "ATOM   3661  CA  CYS B  19      18.669  73.085  10.077  1.00 26.73           C  \n",
      "\n",
      "ATOM   3662  C   CYS B  19      19.747  74.160  10.288  1.00 27.63           C  \n",
      "\n",
      "ATOM   3663  O   CYS B  19      19.920  74.938   9.349  1.00 27.30           O  \n",
      "\n",
      "ATOM   3664  CB  CYS B  19      19.421  71.860   9.535  1.00 25.33           C  \n",
      "\n",
      "ATOM   3665  SG  CYS B  19      18.646  70.235   9.589  1.00 22.89           S  \n",
      "\n",
      "ATOM   4085  N   CYS B  75      18.284  67.714  13.303  1.00 18.86           N  \n",
      "\n",
      "ATOM   4086  CA  CYS B  75      19.436  67.773  12.391  1.00 20.22           C  \n",
      "\n",
      "ATOM   4087  C   CYS B  75      20.647  66.978  12.853  1.00 20.78           C  \n",
      "\n",
      "ATOM   4088  O   CYS B  75      20.941  66.772  14.033  1.00 20.73           O  \n",
      "\n",
      "ATOM   4089  CB  CYS B  75      19.759  69.237  12.197  1.00 21.02           C  \n",
      "\n",
      "ATOM   4090  SG  CYS B  75      18.303  70.128  11.605  1.00 22.09           S  \n",
      "\n",
      "ATOM   4735  N   CYS B 159      65.931  40.911  32.854  1.00 52.74           N  \n",
      "\n",
      "ATOM   4736  CA  CYS B 159      65.302  41.248  31.584  1.00 52.86           C  \n",
      "\n",
      "ATOM   4737  C   CYS B 159      66.332  41.648  30.537  1.00 53.47           C  \n",
      "\n",
      "ATOM   4738  O   CYS B 159      67.553  41.729  30.740  1.00 53.81           O  \n",
      "\n",
      "ATOM   4739  CB  CYS B 159      64.291  42.383  31.857  1.00 52.04           C  \n",
      "\n",
      "ATOM   4740  SG  CYS B 159      65.036  43.979  32.268  1.00 51.04           S  \n",
      "\n",
      "ATOM   4776  N   CYS B 164      64.657  47.952  30.508  1.00 47.73           N  \n",
      "\n",
      "ATOM   4777  CA  CYS B 164      63.676  46.891  30.597  1.00 47.92           C  \n",
      "\n",
      "ATOM   4778  C   CYS B 164      63.314  46.637  32.044  1.00 47.12           C  \n",
      "\n",
      "ATOM   4779  O   CYS B 164      62.193  46.172  32.274  1.00 47.44           O  \n",
      "\n",
      "ATOM   4780  CB  CYS B 164      64.068  45.624  29.849  1.00 49.03           C  \n",
      "\n",
      "ATOM   4781  SG  CYS B 164      65.516  44.746  30.432  1.00 50.30           S  \n",
      "\n"
     ]
    }
   ],
   "source": [
    "# TYPE YOUR SOLUTION HERE\n",
    "\n",
    "with open('1PRE.pdb', 'r') as file_handle:\n",
    "    lines = file_handle.readlines()\n",
    "    for line in lines:\n",
    "        if line.startswith('ATOM') and line[18-1:20+1-1] == 'CYS':\n",
    "            print(line)\n",
    "            "
   ]
  },
  {
   "cell_type": "markdown",
   "metadata": {},
   "source": [
    "### *TASK 2*\n",
    "\n",
    "Parse ``1PRE.pdb`` and write the $x$, $y$ and $z$ coordinates of all the cysteines to the output file ``atoms_cys.txt``. Use [*f-strings*](https://www.blog.pythonlibrary.org/2018/03/13/python-3-an-intro-to-f-strings/) to generate one string for each line ending with a newline character ``\\n``.\n",
    "\n",
    "**Advanced:** Make sure that columns are aligned."
   ]
  },
  {
   "cell_type": "code",
   "execution_count": 11,
   "metadata": {
    "collapsed": true
   },
   "outputs": [],
   "source": [
    "# TYPE YOUR SOLUTION HERE\n",
    "\n",
    "with open('1PRE.pdb', 'r') as file_handle:\n",
    "    lines = file_handle.readlines()\n",
    "    lines_output = []\n",
    "    for line in lines:\n",
    "        if line.startswith('ATOM') and line[18-1:20+1-1] == 'CYS':\n",
    "            x = float(line[31-1:38+1-1])\n",
    "            y = float(line[39-1:46+1-1])\n",
    "            z = float(line[47-1:54+1-1])\n",
    "            line_output = f\"{x}\\t{y}\\t{z}\\n\"\n",
    "            lines_output.append(line_output)\n",
    "\n",
    "with open('atoms_cys.txt', 'w') as file_handle:\n",
    "    file_handle.writelines(lines_output)"
   ]
  },
  {
   "cell_type": "markdown",
   "metadata": {},
   "source": [
    "### *TASK 3*\n",
    "\n",
    "Define a function ``read_pdb(filename)`` that expects as input parameter a PDB filename and that returns four *numpy arrays* containing\n",
    "- the $x$ coordinates\n",
    "- the $y$ coordinates\n",
    "- the $z$ coordinates\n",
    "- the atom numbers (proton numbers)\n",
    "\n",
    "**Advanced:** Save the function in another file called ``pdb_``*yourname*``.py``, import and call it."
   ]
  },
  {
   "cell_type": "code",
   "execution_count": 2,
   "metadata": {},
   "outputs": [],
   "source": [
    "# Import of numpy\n",
    "import numpy"
   ]
  },
  {
   "cell_type": "code",
   "execution_count": 3,
   "metadata": {},
   "outputs": [
    {
     "data": {
      "text/plain": [
       "(array([ 13.459,  12.542,  11.546,  11.397,  11.74 ,  12.815,  13.304,\n",
       "         12.218,  11.06 ,  11.022,  11.76 ,  13.153, -34.683, -33.997,\n",
       "        -34.829, -36.037, -32.829, -33.275, -33.025, -31.971, -31.642,\n",
       "        -30.709, -32.142, -33.612,  17.737,  18.669,  19.747,  19.92 ,\n",
       "         19.421,  18.646,  18.284,  19.436,  20.647,  20.941,  19.759,\n",
       "         18.303,  65.931,  65.302,  66.332,  67.553,  64.291,  65.036,\n",
       "         64.657,  63.676,  63.314,  62.193,  64.068,  65.516]),\n",
       " array([82.83 , 81.712, 81.89 , 82.988, 81.685, 81.107, 76.65 , 77.532,\n",
       "        76.742, 75.512, 78.281, 79.155, 48.263, 49.53 , 50.797, 50.849,\n",
       "        49.678, 49.564, 52.464, 52.007, 50.547, 50.075, 52.251, 51.54 ,\n",
       "        73.52 , 73.085, 74.16 , 74.938, 71.86 , 70.235, 67.714, 67.773,\n",
       "        66.978, 66.772, 69.237, 70.128, 40.911, 41.248, 41.648, 41.729,\n",
       "        42.383, 43.979, 47.952, 46.891, 46.637, 46.172, 45.624, 44.746]),\n",
       " array([23.23 , 23.122, 21.995, 21.465, 24.443, 25.8  , 26.884, 27.304,\n",
       "        27.879, 27.695, 26.056, 25.299, 43.646, 43.913, 43.898, 43.733,\n",
       "        42.916, 41.147, 37.669, 38.53 , 38.331, 38.978, 40.022, 40.736,\n",
       "         9.02 , 10.077, 10.288,  9.349,  9.535,  9.589, 13.303, 12.391,\n",
       "        12.853, 14.033, 12.197, 11.605, 32.854, 31.584, 30.537, 30.74 ,\n",
       "        31.857, 32.268, 30.508, 30.597, 32.044, 32.274, 29.849, 30.432]),\n",
       " array([ 7,  6,  6,  8,  6, 16,  7,  6,  6,  8,  6, 16,  7,  6,  6,  8,  6,\n",
       "        16,  7,  6,  6,  8,  6, 16,  7,  6,  6,  8,  6, 16,  7,  6,  6,  8,\n",
       "         6, 16,  7,  6,  6,  8,  6, 16,  7,  6,  6,  8,  6, 16]))"
      ]
     },
     "execution_count": 3,
     "metadata": {},
     "output_type": "execute_result"
    }
   ],
   "source": [
    "# TYPE YOUR SOLUTION HERE\n",
    "\n",
    "proton_number = {'C' : 6, 'N' : 7, 'O' : 8, 'S' : 16}\n",
    "\n",
    "def read_pdb(filename='1PRE.pdb'):\n",
    "    X = []\n",
    "    Y = []\n",
    "    Z = []\n",
    "    A = []\n",
    "    with open(filename, 'r') as file_handle:\n",
    "        lines = file_handle.readlines()\n",
    "        lines_output = []\n",
    "        for line in lines:\n",
    "            if line.startswith('ATOM') and line[18-1:20+1-1] == 'CYS':\n",
    "                x = float(line[31-1:38+1-1])\n",
    "                y = float(line[39-1:46+1-1])\n",
    "                z = float(line[47-1:54+1-1])\n",
    "                element = line[77-1:78+1-1].lstrip()\n",
    "                a = proton_number[element]\n",
    "                X.append(x)\n",
    "                Y.append(y)\n",
    "                Z.append(z)\n",
    "                A.append(a)\n",
    "    X = numpy.array(X)\n",
    "    Y = numpy.array(Y)\n",
    "    Z = numpy.array(Z)\n",
    "    A = numpy.array(A)\n",
    "    return (X, Y, Z, A)\n",
    "\n",
    "read_pdb()  "
   ]
  },
  {
   "cell_type": "markdown",
   "metadata": {},
   "source": [
    "### *TASK 4*\n",
    "\n",
    "Use the *matplotlib* function [*matplotlib.pyplot.scatter* ](https://matplotlib.org/api/_as_gen/matplotlib.pyplot.scatter.html) to visualise the $x$ and $y$ coordinates of Proaerolysin.\n",
    "\n",
    "**Advanced:** Plot each element in a different color."
   ]
  },
  {
   "cell_type": "code",
   "execution_count": 22,
   "metadata": {},
   "outputs": [],
   "source": [
    "# Magic import of the matplotlib package for activating plotting in the notebook\n",
    "import matplotlib\n",
    "%matplotlib inline"
   ]
  },
  {
   "cell_type": "code",
   "execution_count": 29,
   "metadata": {},
   "outputs": [],
   "source": [
    "# TYPE YOUR SOLUTION HERE\n",
    "X, Y, Z, A = read_pdb()\n",
    "\n",
    "#matplotlib.pyplot.scatter"
   ]
  },
  {
   "cell_type": "markdown",
   "metadata": {},
   "source": [
    "### *EXTRA TASK*\n",
    "\n",
    "The radius of gyration of a molecule of $N$ atoms is defined as\n",
    "    \n",
    "$$R_g = \\sqrt{\\frac{\\sum_i^N m_i r_i^2}{\\sum_i^N m_i}}$$\n",
    "\n",
    "where $m_i$ is mass of atom $i$ and $r_i$ is the distance of atom $i$ from the molecule's center of mass\n",
    "\n",
    "$$\\vec{r_0} = \\frac{\\sum_i^N m_i \\vec{r_i}}{\\sum_i^N m_i}$$\n",
    "\n",
    "Estimate the size of Proaerolysin by calculating the radius of gyration on the basis of only its carbon atoms.\n",
    "\n",
    "**Advanced:** Consider atoms of all elements for this calculation."
   ]
  },
  {
   "cell_type": "code",
   "execution_count": 25,
   "metadata": {},
   "outputs": [],
   "source": [
    "# TYPE YOUR SOLUTION HERE"
   ]
  }
 ],
 "metadata": {
  "kernelspec": {
   "display_name": "Python 3",
   "language": "python",
   "name": "python3"
  },
  "language_info": {
   "codemirror_mode": {
    "name": "ipython",
    "version": 3
   },
   "file_extension": ".py",
   "mimetype": "text/x-python",
   "name": "python",
   "nbconvert_exporter": "python",
   "pygments_lexer": "ipython3",
   "version": "3.6.4"
  }
 },
 "nbformat": 4,
 "nbformat_minor": 2
}
