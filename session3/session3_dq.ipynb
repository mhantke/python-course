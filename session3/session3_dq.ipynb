{
 "cells": [
  {
   "cell_type": "markdown",
   "metadata": {},
   "source": [
    "Author: **Daniel**"
   ]
  },
  {
   "cell_type": "markdown",
   "metadata": {},
   "source": [
    "# 3. Reading and writing files"
   ]
  },
  {
   "cell_type": "markdown",
   "metadata": {},
   "source": [
    "### Goals\n",
    "\n",
    "- reading the atom coordinates from a PDB file\n",
    "- output value tables to a text file\n",
    "- learning to do calculations with *numpy arrays*\n",
    "- first plotting with *matplitlib*"
   ]
  },
  {
   "cell_type": "markdown",
   "metadata": {},
   "source": [
    "### Introduction\n",
    "\n",
    "#### ATOM data in PDB files\n",
    "\n",
    "The PDB file format contains information about atom species and positions. This information is found in lines starting with ``ATOM``. Each of these lines has the same amount of characters and has the following format:\n",
    "\n",
    "| Characters | Type                                  | Data type        |       \n",
    "|------------|---------------------------------------|------------------|\n",
    "| 1 - 6      | Record name «ATOM»                    | String           |\n",
    "| 7-11       | Serial atom number                    | Integer          |\n",
    "| 13-16      | Atom name                             | String           |\n",
    "| 17         | Alternate location                    | String           |\n",
    "| 18-20      | Residue name                          | String           |\n",
    "| 22         | Chain identifier                      | String           |\n",
    "| 23-26      | Residue sequence nb.                  | Integer          |\n",
    "| 27         | Code for residues insertion           | String           |\n",
    "| 31-38      | X coordinate in Å                     | Float            |\n",
    "| 39-46      | Y coordinate in Å                     | Float            |\n",
    "| 47-54      | Z coordinate in Å                     | Float            |\n",
    "| 55-60      | Occupancy                             | Float            |\n",
    "| 61-66      | Temperature factor                    | Float            |\n",
    "| 77-78      | Element symbol                        | String           |\n",
    "| 79-80      | Charge                                | String           |\n",
    "\n",
    "Further reading: http://www.wwpdb.org/documentation/file-format-content/format33/v3.3.html\n",
    "\n",
    "**Note:** With PDB files, splitting the lines in their individual columns using the function ``line.split()`` is dangerous: use character positions instead!"
   ]
  },
  {
   "cell_type": "markdown",
   "metadata": {},
   "source": [
    "### *TASK 1*\n",
    "\n",
    "In this folder you will find the PDB file for Proaerolysin (``1PRE.pdb``). Open the file, and print all the lines containing a cysteine (residue name \"CYS\"). \n",
    "\n",
    "**Note:** Remember that in *Python* one starts counting from 0, not 1!"
   ]
  },
  {
   "cell_type": "code",
   "execution_count": 2,
   "metadata": {},
   "outputs": [
    {
     "name": "stdout",
     "output_type": "stream",
     "text": [
      "['ATOM', '136', 'N', 'CYS', 'A', '19', '13.459', '82.830', '23.230', '1.00', '33.86', 'N']\n",
      "['ATOM', '137', 'CA', 'CYS', 'A', '19', '12.542', '81.712', '23.122', '1.00', '33.54', 'C']\n",
      "['ATOM', '138', 'C', 'CYS', 'A', '19', '11.546', '81.890', '21.995', '1.00', '34.09', 'C']\n",
      "['ATOM', '139', 'O', 'CYS', 'A', '19', '11.397', '82.988', '21.465', '1.00', '34.19', 'O']\n",
      "['ATOM', '140', 'CB', 'CYS', 'A', '19', '11.740', '81.685', '24.443', '1.00', '32.44', 'C']\n",
      "['ATOM', '141', 'SG', 'CYS', 'A', '19', '12.815', '81.107', '25.800', '1.00', '31.70', 'S']\n",
      "['ATOM', '561', 'N', 'CYS', 'A', '75', '13.304', '76.650', '26.884', '1.00', '28.69', 'N']\n",
      "['ATOM', '562', 'CA', 'CYS', 'A', '75', '12.218', '77.532', '27.304', '1.00', '30.01', 'C']\n",
      "['ATOM', '563', 'C', 'CYS', 'A', '75', '11.060', '76.742', '27.879', '1.00', '30.85', 'C']\n",
      "['ATOM', '564', 'O', 'CYS', 'A', '75', '11.022', '75.512', '27.695', '1.00', '31.27', 'O']\n",
      "['ATOM', '565', 'CB', 'CYS', 'A', '75', '11.760', '78.281', '26.056', '1.00', '30.28', 'C']\n",
      "['ATOM', '566', 'SG', 'CYS', 'A', '75', '13.153', '79.155', '25.299', '1.00', '30.92', 'S']\n",
      "['ATOM', '1211', 'N', 'CYS', 'A', '159', '-34.683', '48.263', '43.646', '1.00', '50.56', 'N']\n",
      "['ATOM', '1212', 'CA', 'CYS', 'A', '159', '-33.997', '49.530', '43.913', '1.00', '50.39', 'C']\n",
      "['ATOM', '1213', 'C', 'CYS', 'A', '159', '-34.829', '50.797', '43.898', '1.00', '50.72', 'C']\n",
      "['ATOM', '1214', 'O', 'CYS', 'A', '159', '-36.037', '50.849', '43.733', '1.00', '50.46', 'O']\n",
      "['ATOM', '1215', 'CB', 'CYS', 'A', '159', '-32.829', '49.678', '42.916', '1.00', '49.85', 'C']\n",
      "['ATOM', '1216', 'SG', 'CYS', 'A', '159', '-33.275', '49.564', '41.147', '1.00', '49.34', 'S']\n",
      "['ATOM', '1252', 'N', 'CYS', 'A', '164', '-33.025', '52.464', '37.669', '1.00', '44.04', 'N']\n",
      "['ATOM', '1253', 'CA', 'CYS', 'A', '164', '-31.971', '52.007', '38.530', '1.00', '43.84', 'C']\n",
      "['ATOM', '1254', 'C', 'CYS', 'A', '164', '-31.642', '50.547', '38.331', '1.00', '42.23', 'C']\n",
      "['ATOM', '1255', 'O', 'CYS', 'A', '164', '-30.709', '50.075', '38.978', '1.00', '42.56', 'O']\n",
      "['ATOM', '1256', 'CB', 'CYS', 'A', '164', '-32.142', '52.251', '40.022', '1.00', '45.82', 'C']\n",
      "['ATOM', '1257', 'SG', 'CYS', 'A', '164', '-33.612', '51.540', '40.736', '1.00', '48.57', 'S']\n",
      "['ATOM', '3660', 'N', 'CYS', 'B', '19', '17.737', '73.520', '9.020', '1.00', '26.76', 'N']\n",
      "['ATOM', '3661', 'CA', 'CYS', 'B', '19', '18.669', '73.085', '10.077', '1.00', '26.73', 'C']\n",
      "['ATOM', '3662', 'C', 'CYS', 'B', '19', '19.747', '74.160', '10.288', '1.00', '27.63', 'C']\n",
      "['ATOM', '3663', 'O', 'CYS', 'B', '19', '19.920', '74.938', '9.349', '1.00', '27.30', 'O']\n",
      "['ATOM', '3664', 'CB', 'CYS', 'B', '19', '19.421', '71.860', '9.535', '1.00', '25.33', 'C']\n",
      "['ATOM', '3665', 'SG', 'CYS', 'B', '19', '18.646', '70.235', '9.589', '1.00', '22.89', 'S']\n",
      "['ATOM', '4085', 'N', 'CYS', 'B', '75', '18.284', '67.714', '13.303', '1.00', '18.86', 'N']\n",
      "['ATOM', '4086', 'CA', 'CYS', 'B', '75', '19.436', '67.773', '12.391', '1.00', '20.22', 'C']\n",
      "['ATOM', '4087', 'C', 'CYS', 'B', '75', '20.647', '66.978', '12.853', '1.00', '20.78', 'C']\n",
      "['ATOM', '4088', 'O', 'CYS', 'B', '75', '20.941', '66.772', '14.033', '1.00', '20.73', 'O']\n",
      "['ATOM', '4089', 'CB', 'CYS', 'B', '75', '19.759', '69.237', '12.197', '1.00', '21.02', 'C']\n",
      "['ATOM', '4090', 'SG', 'CYS', 'B', '75', '18.303', '70.128', '11.605', '1.00', '22.09', 'S']\n",
      "['ATOM', '4735', 'N', 'CYS', 'B', '159', '65.931', '40.911', '32.854', '1.00', '52.74', 'N']\n",
      "['ATOM', '4736', 'CA', 'CYS', 'B', '159', '65.302', '41.248', '31.584', '1.00', '52.86', 'C']\n",
      "['ATOM', '4737', 'C', 'CYS', 'B', '159', '66.332', '41.648', '30.537', '1.00', '53.47', 'C']\n",
      "['ATOM', '4738', 'O', 'CYS', 'B', '159', '67.553', '41.729', '30.740', '1.00', '53.81', 'O']\n",
      "['ATOM', '4739', 'CB', 'CYS', 'B', '159', '64.291', '42.383', '31.857', '1.00', '52.04', 'C']\n",
      "['ATOM', '4740', 'SG', 'CYS', 'B', '159', '65.036', '43.979', '32.268', '1.00', '51.04', 'S']\n",
      "['ATOM', '4776', 'N', 'CYS', 'B', '164', '64.657', '47.952', '30.508', '1.00', '47.73', 'N']\n",
      "['ATOM', '4777', 'CA', 'CYS', 'B', '164', '63.676', '46.891', '30.597', '1.00', '47.92', 'C']\n",
      "['ATOM', '4778', 'C', 'CYS', 'B', '164', '63.314', '46.637', '32.044', '1.00', '47.12', 'C']\n",
      "['ATOM', '4779', 'O', 'CYS', 'B', '164', '62.193', '46.172', '32.274', '1.00', '47.44', 'O']\n",
      "['ATOM', '4780', 'CB', 'CYS', 'B', '164', '64.068', '45.624', '29.849', '1.00', '49.03', 'C']\n",
      "['ATOM', '4781', 'SG', 'CYS', 'B', '164', '65.516', '44.746', '30.432', '1.00', '50.30', 'S']\n"
     ]
    }
   ],
   "source": [
    "with open(\"1PRE.pdb\",\"r\") as pdb_file:\n",
    "    for line in pdb_file:\n",
    "        if line[17:20] == \"CYS\":\n",
    "            print(line.split())"
   ]
  },
  {
   "cell_type": "markdown",
   "metadata": {},
   "source": [
    "### *TASK 2*\n",
    "\n",
    "Parse ``1PRE.pdb`` and write the $x$, $y$ and $z$ coordinates of all the cysteines to the output file ``atoms_cys.txt``. Use [*f-strings*](https://www.blog.pythonlibrary.org/2018/03/13/python-3-an-intro-to-f-strings/) to generate one string for each line ending with a newline character ``\\n``.\n",
    "\n",
    "**Advanced:** Make sure that columns are aligned."
   ]
  },
  {
   "cell_type": "code",
   "execution_count": 8,
   "metadata": {
    "collapsed": true
   },
   "outputs": [],
   "source": [
    "with open(\"1PRE.pdb\",\"r\") as pdb_file:\n",
    "    with open(\"dq_pdb.txt\",\"w\") as wfile:\n",
    "        for line in pdb_file:\n",
    "            if line[17:20] == \"CYS\":\n",
    "                wfile.write(f\"{line.split()[6]} \\t {line.split()[7]} \\t {line.split()[8]} \\n\")"
   ]
  },
  {
   "cell_type": "markdown",
   "metadata": {},
   "source": [
    "### *TASK 3*\n",
    "\n",
    "Define a function ``read_pdb(filename)`` that expects as input parameter a PDB filename and that returns four *numpy arrays* containing\n",
    "- the $x$ coordinates\n",
    "- the $y$ coordinates\n",
    "- the $z$ coordinates\n",
    "- the atomic numbers (proton numbers)\n",
    "\n",
    "**Advanced:** Save the function in another file called ``pdb_``*yourname*``.py``, import and call it."
   ]
  },
  {
   "cell_type": "code",
   "execution_count": 4,
   "metadata": {},
   "outputs": [],
   "source": [
    "# Import of numpy\n",
    "import numpy as np"
   ]
  },
  {
   "cell_type": "code",
   "execution_count": 9,
   "metadata": {},
   "outputs": [],
   "source": [
    "temp=[]\n",
    "with open(\"1PRE.pdb\",\"r\") as pdb_file:\n",
    "    for line in pdb_file:\n",
    "        if line[17:20] == \"CYS\":\n",
    "            temp.append(line.split())\n",
    "#             wfile.write(f\"{line.split()[6]} \\t {line.split()[7]} \\t {line.split()[8]} \\n\")"
   ]
  },
  {
   "cell_type": "code",
   "execution_count": 14,
   "metadata": {},
   "outputs": [],
   "source": [
    "nparr=np.zeros((len(temp),4))"
   ]
  },
  {
   "cell_type": "code",
   "execution_count": 16,
   "metadata": {},
   "outputs": [],
   "source": [
    "for i in range(len(temp)):\n",
    "    nparr[i,0],nparr[i,1:4]=temp[i][1],temp[i][6:9],"
   ]
  },
  {
   "cell_type": "code",
   "execution_count": 18,
   "metadata": {},
   "outputs": [
    {
     "name": "stdout",
     "output_type": "stream",
     "text": [
      "[ 136.  137.  138.  139.  140.  141.  561.  562.  563.  564.  565.  566.\n",
      " 1211. 1212. 1213. 1214. 1215. 1216. 1252. 1253. 1254. 1255. 1256. 1257.\n",
      " 3660. 3661. 3662. 3663. 3664. 3665. 4085. 4086. 4087. 4088. 4089. 4090.\n",
      " 4735. 4736. 4737. 4738. 4739. 4740. 4776. 4777. 4778. 4779. 4780. 4781.]\n"
     ]
    }
   ],
   "source": [
    "print(nparr[:,0])"
   ]
  },
  {
   "cell_type": "markdown",
   "metadata": {},
   "source": [
    "### *TASK 4*\n",
    "\n",
    "Use the *matplotlib* function [*matplotlib.pyplot.scatter* ](https://matplotlib.org/api/_as_gen/matplotlib.pyplot.scatter.html) to visualise the $x$ and $y$ coordinates of Proaerolysin.\n",
    "\n",
    "**Advanced:** Plot each element in a different color."
   ]
  },
  {
   "cell_type": "code",
   "execution_count": null,
   "metadata": {},
   "outputs": [],
   "source": [
    "# Magic import of the matplotlib package for activating plotting in the notebook\n",
    "import matplotlib\n",
    "%matplotlib inline"
   ]
  },
  {
   "cell_type": "code",
   "execution_count": 24,
   "metadata": {},
   "outputs": [],
   "source": [
    "# TYPE YOUR SOLUTION HERE"
   ]
  },
  {
   "cell_type": "markdown",
   "metadata": {},
   "source": [
    "### *EXTRA TASK*\n",
    "\n",
    "The radius of gyration of a molecule of $N$ atoms is defined as\n",
    "    \n",
    "$$R_g = \\sqrt{\\frac{\\sum_i^N m_i r_i^2}{\\sum_i^N m_i}}$$\n",
    "\n",
    "where $m_i$ is mass of atom $i$ and $r_i$ is the distance of atom $i$ from the molecule's center of mass\n",
    "\n",
    "$$\\vec{r_0} = \\frac{\\sum_i^N m_i \\vec{r_i}}{\\sum_i^N m_i}$$\n",
    "\n",
    "Estimate the size of Proaerolysin by calculating the radius of gyration on the basis of only its carbon atoms.\n",
    "\n",
    "**Advanced:** Consider atoms of all elements for this calculation."
   ]
  },
  {
   "cell_type": "code",
   "execution_count": 25,
   "metadata": {},
   "outputs": [],
   "source": [
    "# TYPE YOUR SOLUTION HERE"
   ]
  }
 ],
 "metadata": {
  "kernelspec": {
   "display_name": "Python 3",
   "language": "python",
   "name": "python3"
  },
  "language_info": {
   "codemirror_mode": {
    "name": "ipython",
    "version": 3
   },
   "file_extension": ".py",
   "mimetype": "text/x-python",
   "name": "python",
   "nbconvert_exporter": "python",
   "pygments_lexer": "ipython3",
   "version": "3.6.5"
  }
 },
 "nbformat": 4,
 "nbformat_minor": 2
}
