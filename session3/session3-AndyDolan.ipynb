{
 "cells": [
  {
   "cell_type": "markdown",
   "metadata": {},
   "source": [
    "Author: **Andy Dolan**"
   ]
  },
  {
   "cell_type": "markdown",
   "metadata": {},
   "source": [
    "# 3. Reading and writing files"
   ]
  },
  {
   "cell_type": "markdown",
   "metadata": {},
   "source": [
    "### Goals\n",
    "\n",
    "- reading the atom coordinates from a PDB file\n",
    "- output value tables to a text file\n",
    "- learning to do calculations with *numpy arrays*\n",
    "- first plotting with *matplitlib*"
   ]
  },
  {
   "cell_type": "markdown",
   "metadata": {},
   "source": [
    "### Introduction\n",
    "\n",
    "#### ATOM data in PDB files\n",
    "\n",
    "The PDB file format contains information about atom species and positions. This information is found in lines starting with ``ATOM``. Each of these lines has the same amount of characters and has the following format:\n",
    "\n",
    "| Characters | Type                                  | Data type        |       \n",
    "|------------|---------------------------------------|------------------|\n",
    "| 1 - 6      | Record name «ATOM»                    | String           |\n",
    "| 7-11       | Serial atom number                    | Integer          |\n",
    "| 13-16      | Atom name                             | String           |\n",
    "| 17         | Alternate location                    | String           |\n",
    "| 18-20      | Residue name                          | String           |\n",
    "| 22         | Chain identifier                      | String           |\n",
    "| 23-26      | Residue sequence nb.                  | Integer          |\n",
    "| 27         | Code for residues insertion           | String           |\n",
    "| 31-38      | X coordinate in Å                     | Float            |\n",
    "| 39-46      | Y coordinate in Å                     | Float            |\n",
    "| 47-54      | Z coordinate in Å                     | Float            |\n",
    "| 55-60      | Occupancy                             | Float            |\n",
    "| 61-66      | Temperature factor                    | Float            |\n",
    "| 77-78      | Element symbol                        | String           |\n",
    "| 79-80      | Charge                                | String           |\n",
    "\n",
    "Further reading: http://www.wwpdb.org/documentation/file-format-content/format33/v3.3.html\n",
    "\n",
    "**Note:** With PDB files, splitting the lines in their individual columns using the function ``line.split()`` is dangerous: use character positions instead!"
   ]
  },
  {
   "cell_type": "markdown",
   "metadata": {},
   "source": [
    "### *TASK 1*\n",
    "\n",
    "In this folder you will find the PDB file for Proaerolysin (``1PRE.pdb``). Open the file, and print all the lines containing a cysteine (residue name \"CYS\"). \n",
    "\n",
    "**Note:** Remember that in *Python* one starts counting from 0, not 1!"
   ]
  },
  {
   "cell_type": "code",
   "execution_count": null,
   "metadata": {},
   "outputs": [],
   "source": [
    "file1=open(\"1PRE.pdb\", \"r\")\n",
    "\n",
    "for line in file1:\n",
    "    if line[17:20] == \"CYS\":\n",
    "        print(line)"
   ]
  },
  {
   "cell_type": "code",
   "execution_count": null,
   "metadata": {},
   "outputs": [],
   "source": [
    "with open(\"1pre.pdb\", 'r') as file0:\n",
    "    lines = file0.readlines()\n",
    "    for line in lines:\n",
    "        if line[17:20] == 'CYS':\n",
    "            print(line)\n",
    "            \n",
    "#if line.startswith('ATOM)' and lines[17:20] == \"CYS\":\n",
    "        #print(line)"
   ]
  },
  {
   "cell_type": "code",
   "execution_count": null,
   "metadata": {},
   "outputs": [],
   "source": [
    "file1=open(\"1PRE.pdb\", \"r\")\n",
    "\n",
    "for line in file1:\n",
    "    if line[0:4] == \"ATOM\":\n",
    "        x = line[31:38]\n",
    "        y = line[39:46]\n",
    "        z = line[47:54]\n",
    "        e = line[77:78]\n",
    "        print (x, y, z, e)\n",
    "#WORKS\n",
    "\n",
    "#can also use:\n",
    "    #if line.startswith('ATOM)' and lines[17:20] == \"CYS\":\n",
    "        #print(line)"
   ]
  },
  {
   "cell_type": "code",
   "execution_count": null,
   "metadata": {},
   "outputs": [],
   "source": [
    "file1=open(\"1PRE.pdb\", \"r\")\n",
    "\n",
    "for line in file1:\n",
    "    if line[0:4] == \"ATOM\":\n",
    "        x = line[31:38]\n",
    "        y = line[39:46]\n",
    "        z = line[47:54]\n",
    "        e = line[77:78]\n",
    "        coord = f'{x}, {y}, {z}, {e}\\n'\n",
    "        print (coord)\n",
    "#WORKS"
   ]
  },
  {
   "cell_type": "markdown",
   "metadata": {},
   "source": [
    "*TASK 2*\n",
    "\n",
    "Parse ``1PRE.pdb`` and write the $x$, $y$ and $z$ coordinates of all the cysteines to the output file ``atoms_cys.txt``. Use [*f-strings*](https://www.blog.pythonlibrary.org/2018/03/13/python-3-an-intro-to-f-strings/) to generate one string for each line ending with a newline character ``\\n``.\n",
    "\n",
    "**Advanced:** Make sure that columns are aligned."
   ]
  },
  {
   "cell_type": "code",
   "execution_count": null,
   "metadata": {},
   "outputs": [],
   "source": [
    "file1=open(\"1PRE.pdb\", \"r\")\n",
    "file2=open(\"atoms.cys.adolan.txt\", \"w\")\n",
    "for line in file1:\n",
    "    if line[17:20] == \"CYS\":\n",
    "        x = float(line[31:38])\n",
    "        y = float(line[39:46])\n",
    "        z = float(line[47:54])\n",
    "        coord = f\"{x}\\t{y}\\t{z}\\n\"\n",
    "        file2.write(coord)\n",
    "        \n",
    "# 31-38\tX coordinate in Å\tFloat\n",
    "# 39-46\tY coordinate in Å\tFloat\n",
    "# 47-54\tZ coordinate in Å\tFloat\n",
    "        \n",
    "# The x ordinates contain some negative values, I have caught these in the file.\n",
    "# However positive x values have a preceding empty character.\n",
    "    # turning these into floats fixes this problem!\n",
    "    \n",
    "file1.close()\n",
    "file2.close()"
   ]
  },
  {
   "cell_type": "markdown",
   "metadata": {},
   "source": [
    "### *TASK 3*\n",
    "\n",
    "Define a function ``read_pdb(filename)`` that expects as input parameter a PDB filename and that returns four *numpy arrays* containing\n",
    "- the $x$ coordinates\n",
    "- the $y$ coordinates\n",
    "- the $z$ coordinates\n",
    "- the atomic numbers (proton numbers)\n",
    "\n",
    "**Advanced:** Save the function in another file called ``pdb_``*yourname*``.py``, import and call it."
   ]
  },
  {
   "cell_type": "code",
   "execution_count": null,
   "metadata": {},
   "outputs": [],
   "source": [
    "import numpy\n",
    "\n",
    "proton_number = {'C' : 6, 'N' : 7, 'O' : 8, 'S' : 16}\n",
    "\n",
    "def pdbatoms(file1, file2):\n",
    "    filein=open(file1, \"r\")\n",
    "    fileout=open(file2, \"w\")\n",
    "    X = []\n",
    "    Y = []\n",
    "    Z = []\n",
    "    E = []\n",
    "    for line in filein:\n",
    "        if line[0:4] == \"ATOM\":\n",
    "            x = float(line[31:38])\n",
    "            y = float(line[39:46])\n",
    "            z = float(line[47:54])\n",
    "            e = line[77:78]\n",
    "            a = proton_number[e]\n",
    "            X.append(x)\n",
    "            Y.append(y)\n",
    "            Z.append(z)\n",
    "            E.append(a)\n",
    "            coord = f'{x}\\t{y}\\t{z}\\t{a}\\n'\n",
    "            fileout.write(coord)\n",
    "    X = numpy.array(X)\n",
    "    Y = numpy.array(Y)\n",
    "    Z = numpy.array(Z)\n",
    "    A = numpy.array(E)\n",
    "    return (X, Y , Z, A)\n",
    "    file1.close()\n",
    "    file2.close()\n",
    "\n",
    "pdbatoms(\"1PRE.pdb\", \"PREatomsadolan2.txt\")\n",
    "\n",
    "#WORKS\n",
    "\n",
    "# normally create a list and convert into a numpy array\n",
    "\n",
    "# in this case initialize empty lists, then convert later."
   ]
  },
  {
   "cell_type": "code",
   "execution_count": null,
   "metadata": {},
   "outputs": [],
   "source": [
    "import Module1AD\n",
    "\n",
    "Module1AD.pdbatoms(\"1PRE.pdb\",\"1PREATOMSAdolan.txt\")\n",
    "\n",
    "#WOOOOOO IT FUCKING WORKS NOW, SUCK IT."
   ]
  },
  {
   "cell_type": "markdown",
   "metadata": {},
   "source": [
    "### *TASK 4*\n",
    "\n",
    "Use the *matplotlib* function [*matplotlib.pyplot.scatter* ](https://matplotlib.org/api/_as_gen/matplotlib.pyplot.scatter.html) to visualise the $x$ and $y$ coordinates of Proaerolysin.\n",
    "\n",
    "**Advanced:** Plot each element in a different color."
   ]
  },
  {
   "cell_type": "code",
   "execution_count": null,
   "metadata": {},
   "outputs": [],
   "source": [
    "# Magic import of the matplotlib package for activating plotting in the notebook\n",
    "import matplotlib\n",
    "%matplotlib inline"
   ]
  },
  {
   "cell_type": "code",
   "execution_count": null,
   "metadata": {},
   "outputs": [],
   "source": [
    "X, Y, Z, A = pdbatoms('1PRE.pdb','PREatomsadolan3.txt')\n",
    "\n",
    "matplotlib.pyplot.scatter(X,Y)"
   ]
  },
  {
   "cell_type": "markdown",
   "metadata": {},
   "source": [
    "### *EXTRA TASK*\n",
    "\n",
    "The radius of gyration of a molecule of $N$ atoms is defined as\n",
    "    \n",
    "$$R_g = \\sqrt{\\frac{\\sum_i^N m_i r_i^2}{\\sum_i^N m_i}}$$\n",
    "\n",
    "where $m_i$ is mass of atom $i$ and $r_i$ is the distance of atom $i$ from the molecule's center of mass\n",
    "\n",
    "$$\\vec{r_0} = \\frac{\\sum_i^N m_i \\vec{r_i}}{\\sum_i^N m_i}$$\n",
    "\n",
    "Estimate the size of Proaerolysin by calculating the radius of gyration on the basis of only its carbon atoms.\n",
    "\n",
    "**Advanced:** Consider atoms of all elements for this calculation."
   ]
  },
  {
   "cell_type": "code",
   "execution_count": null,
   "metadata": {},
   "outputs": [],
   "source": [
    "# TYPE YOUR SOLUTION HERE"
   ]
  }
 ],
 "metadata": {
  "kernelspec": {
   "display_name": "Python 3",
   "language": "python",
   "name": "python3"
  },
  "language_info": {
   "codemirror_mode": {
    "name": "ipython",
    "version": 3
   },
   "file_extension": ".py",
   "mimetype": "text/x-python",
   "name": "python",
   "nbconvert_exporter": "python",
   "pygments_lexer": "ipython3",
   "version": "3.7.0"
  }
 },
 "nbformat": 4,
 "nbformat_minor": 2
}
