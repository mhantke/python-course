{
 "cells": [
  {
   "cell_type": "markdown",
   "metadata": {},
   "source": [
    "Author: **Andy**"
   ]
  },
  {
   "cell_type": "markdown",
   "metadata": {},
   "source": [
    "# 4. Data visualisation and peak fitting"
   ]
  },
  {
   "cell_type": "markdown",
   "metadata": {},
   "source": [
    "### Goals\n",
    "\n",
    "- create your first own Git repository\n",
    "- reading iSCAMS data from a file and rescale the values\n",
    "- plot a histogram using the package *matplotlib* and save the plot to a file\n",
    "- fit a gaussian function to the histogram with the package *scipy* and determine the average protein mass"
   ]
  },
  {
   "cell_type": "markdown",
   "metadata": {},
   "source": [
    "### Introduction\n",
    "\n",
    "In this folder you will find the file ``hsp165.txt`` that contains the interferometric contrasts of single proteins (HSP 16.5) measured by iSCAMS (stands for interferometric scattering mass spectrometry). The interferometric contrast is proportional to the particle mass (for this measurement an interferometric contrast of $\\approx2.2\\times10^{-5}$ corresponds to a protein mass of 1 kDa."
   ]
  },
  {
   "cell_type": "code",
   "execution_count": 1,
   "metadata": {},
   "outputs": [],
   "source": [
    "# Before we start we need to import the maths library\n",
    "import numpy\n",
    "# a library with tools for scientific data analysis\n",
    "import scipy\n",
    "\n",
    "import matplotlib"
   ]
  },
  {
   "cell_type": "markdown",
   "metadata": {},
   "source": [
    "### *TASK 1*\n",
    "\n",
    "Load the interferometric contrasts from the file into a *numpy-array* of floating point values. Determine the number of values in the array and confirm that the number matches the number of lines in the file ``hsp164.txt`` (check this number for example by opening the file in a text editor)."
   ]
  },
  {
   "cell_type": "code",
   "execution_count": 2,
   "metadata": {},
   "outputs": [
    {
     "name": "stdout",
     "output_type": "stream",
     "text": [
      "[0.00979554 0.00748596 0.00842761 ... 0.00144174 0.00839219 0.00839847]\n"
     ]
    },
    {
     "data": {
      "text/plain": [
       "(2474,)"
      ]
     },
     "execution_count": 2,
     "metadata": {},
     "output_type": "execute_result"
    }
   ],
   "source": [
    "filein = open(\"hsp165.txt\", 'r')\n",
    "x = []\n",
    "for line in filein:\n",
    "    a = float(line[0:10])\n",
    "    x.append(a)\n",
    "array = numpy.array(x)\n",
    "\n",
    "print(array)\n",
    "\n",
    "array.shape\n",
    "\n",
    "# Using Notepadd++ File has 2474 entries."
   ]
  },
  {
   "cell_type": "markdown",
   "metadata": {},
   "source": [
    "### *TASK 2*\n",
    "\n",
    "Convert the measured interferometric contrasts into the unit kDa and and use the *numpy-array* methods to determine the \n",
    "\n",
    "- minimum\n",
    "- maximum\n",
    "- mean\n",
    "- standard deviation\n",
    "\n",
    "of the converted values and print your results to the screen."
   ]
  },
  {
   "cell_type": "code",
   "execution_count": 3,
   "metadata": {
    "collapsed": true
   },
   "outputs": [
    {
     "name": "stdout",
     "output_type": "stream",
     "text": [
      "[0.00979554 0.00748596 0.00842761 ... 0.00144174 0.00839219 0.00839847]\n",
      "[445.25181818 340.27090909 383.07318182 ...  65.53363636 381.46318182\n",
      " 381.74863636]\n"
     ]
    }
   ],
   "source": [
    "array1 = array / (2.2*10**-5)\n",
    "print(array)\n",
    "print(array1)"
   ]
  },
  {
   "cell_type": "code",
   "execution_count": 4,
   "metadata": {},
   "outputs": [
    {
     "name": "stdout",
     "output_type": "stream",
     "text": [
      "[0.00979554 0.00748596 0.00842761 ... 0.00144174 0.00839219 0.00839847]\n",
      "[445.25181818 340.27090909 383.07318182 ...  65.53363636 381.46318182\n",
      " 381.74863636]\n",
      "Min = 51.2\n",
      "Max = 2350.8\n",
      "Mean =  398.2565841111192\n",
      "sigma = 89.45939301786001\n"
     ]
    }
   ],
   "source": [
    "array1 = array / (2.2*numpy.power(10.0,-5.0))\n",
    "print(array)\n",
    "print(array1)\n",
    "\n",
    "print(f\"Min = {array1.min():.1f}\")\n",
    "print(f\"Max = {array1.max():.1f}\")\n",
    "print(\"Mean = \",array1.mean())\n",
    "print('sigma =',array1.std())"
   ]
  },
  {
   "cell_type": "markdown",
   "metadata": {},
   "source": [
    "### *TASK 3*\n",
    "\n",
    "a) Use the function [*matplotlib.pyplot.histogram*](https://matplotlib.org/api/_as_gen/matplotlib.pyplot.hist.html) function to calculate and display the histogram of the measured values.\n",
    "\n",
    "b) Adjust the parameters ``bins`` and ``range`` to improve your plot.\n",
    "\n",
    "\n",
    "c) Annotate your axes by using the functions [*matplotlib.pyplot.xlabel*](https://matplotlib.org/api/_as_gen/matplotlib.pyplot.xlabel.html) and [*matplotlib.pyplot.ylabel*](https://matplotlib.org/api/_as_gen/matplotlib.pyplot.ylabel.html).\n",
    "\n",
    "d) Save the histogram to a PNG file ``hist_hsp.png`` at 400 dpi resolution (search on the web for the suitable *matplotlib* function)."
   ]
  },
  {
   "cell_type": "code",
   "execution_count": 5,
   "metadata": {},
   "outputs": [],
   "source": [
    "# Import of the matplotlib package for plotting\n",
    "import matplotlib\n",
    "# and magic to activate inline-plotting between the notebook cells\n",
    "%matplotlib inline"
   ]
  },
  {
   "cell_type": "code",
   "execution_count": 6,
   "metadata": {},
   "outputs": [
    {
     "data": {
      "image/png": "[encoded data removed]",
      "text/plain": [
       "<Figure size 432x288 with 1 Axes>"
      ]
     },
     "metadata": {
      "needs_background": "light"
     },
     "output_type": "display_data"
    }
   ],
   "source": [
    "(hist, medge, patches) = matplotlib.pyplot.hist(array1, bins=20, range=(0,1000))\n",
    "matplotlib.pyplot.xlabel(\"Mass kDa\")\n",
    "matplotlib.pyplot.ylabel(\"Counts\")\n",
    "\n",
    "matplotlib.pyplot.savefig(\"hist_hspAD.png\", dpi=400)"
   ]
  },
  {
   "cell_type": "markdown",
   "metadata": {},
   "source": [
    "### *TASK 4*\n",
    "\n",
    "a) The function [*matplotlib.pyplot.histogram*](https://matplotlib.org/api/_as_gen/matplotlib.pyplot.hist.html) returns three objects. We are interested in the first two:\n",
    "\n",
    "  - *numpy-array* of histogram values (number of particles that had a mass within the limits of the respective bin)\n",
    "  - *numpy-array* of the limits of the histogram bins\n",
    "\n",
    " Save the two arrays as ``hist`` and ``m_edges`` and check their lengths. Why are they not the same?\n",
    " Save the third array into the variable ``_``.\n",
    " \n",
    "b) Calculate the *numpy-array* ``m_centers`` with values between the values of ``m_edges`` and a length ``len(m_edges)-1``.\n",
    "\n",
    "c) Make a line plot of ``m_centers`` vs. ``hist`` by using the function [*matplotlib.pyplot.plot*](https://matplotlib.org/api/_as_gen/matplotlib.pyplot.plot.html). \n",
    "\n",
    "d) Label the axes.\n",
    "\n",
    "e) Use the same function as in *TASK 3* to save the plot to the PNG file ``hist_hsp_line.png`` at 400 dpi resolution."
   ]
  },
  {
   "cell_type": "code",
   "execution_count": 9,
   "metadata": {},
   "outputs": [
    {
     "name": "stdout",
     "output_type": "stream",
     "text": [
      "Hist Shape = (20,) Medge shape = (21,)\n",
      "Centers shape = (20,)\n"
     ]
    },
    {
     "data": {
      "image/png": "[encoded data removed]",
      "text/plain": [
       "<Figure size 432x288 with 1 Axes>"
      ]
     },
     "metadata": {
      "needs_background": "light"
     },
     "output_type": "display_data"
    }
   ],
   "source": [
    "#print(medge)\n",
    "\n",
    "print(\"Hist Shape =\",hist.shape, \"Medge shape =\", medge.shape)\n",
    "\n",
    "mcenters = []\n",
    "for i in medge[:-1]:\n",
    "        center = float(i + (medge[1]-medge[0])/2)\n",
    "        mcenters.append(center)\n",
    "        centers = numpy.array(mcenters)\n",
    "#print(centers)\n",
    "print(\"Centers shape =\",centers.shape)\n",
    "\n",
    "matplotlib.pyplot.plot(centers, hist)\n",
    "matplotlib.pyplot.xlabel(\"Mass kDa\")\n",
    "matplotlib.pyplot.ylabel(\"Counts\")\n",
    "matplotlib.pyplot.savefig(\"hist_hsp_lineAD.png\", dpi=400)"
   ]
  },
  {
   "cell_type": "markdown",
   "metadata": {},
   "source": [
    "### *TASK 4*\n",
    "\n",
    "In taks 5 we want to determine the mass of HSP 16.5 by fitting a Gaussian function to the histogram.\n",
    "\n",
    "The Gaussian function is defined as \n",
    "\n",
    "$$g(x) = A_0 \\exp\\left( -\\frac{\\left(m-m_0\\right)^2}{2 \\sigma^2} \\right)$$\n",
    "\n",
    "a) Write a corresponding Python function ``gauss(m, A0, m0, sigma)`` that returns $g(x)$.\n",
    "\n",
    "b) Assign the default values $A_0=1$, $m_0=0$, $\\sigma=1$.\n",
    "\n",
    "c) Confirm that the function returns the value $e^{-1/2}\\approx0.61$ for $m=1$, $A_0=1$, $m_0=0$, and $\\sigma=1$. "
   ]
  },
  {
   "cell_type": "code",
   "execution_count": 13,
   "metadata": {},
   "outputs": [
    {
     "name": "stdout",
     "output_type": "stream",
     "text": [
      "0.61\n"
     ]
    }
   ],
   "source": [
    "import numpy as np\n",
    "\n",
    "import Module1 as m\n",
    "# def gauss(m, A0=1, m0=0, sigma=1):\n",
    "#     g = A0* np.exp(-((m - m0)**2)/(2*sigma)**2)\n",
    "#     return (g)\n",
    "counts = m.gauss(1)\n",
    "\n",
    "counts3sf = round(counts,2)\n",
    "print(counts3sf)\n",
    "\n",
    "assert counts3sf == 0.61, \"Something has changed the Gaussian Function calculation\""
   ]
  },
  {
   "cell_type": "code",
   "execution_count": 18,
   "metadata": {},
   "outputs": [
    {
     "ename": "TypeError",
     "evalue": "residual() missing 1 required positional argument: 'hist'",
     "output_type": "error",
     "traceback": [
      "\u001b[1;31m---------------------------------------------------------------------------\u001b[0m",
      "\u001b[1;31mTypeError\u001b[0m                                 Traceback (most recent call last)",
      "\u001b[1;32m<ipython-input-18-f9bb1cb3af14>\u001b[0m in \u001b[0;36m<module>\u001b[1;34m()\u001b[0m\n\u001b[0;32m     20\u001b[0m \u001b[1;31m#c\u001b[0m\u001b[1;33m\u001b[0m\u001b[1;33m\u001b[0m\u001b[0m\n\u001b[0;32m     21\u001b[0m \u001b[1;32mimport\u001b[0m \u001b[0mscipy\u001b[0m\u001b[1;33m.\u001b[0m\u001b[0moptimize\u001b[0m\u001b[1;33m\u001b[0m\u001b[0m\n\u001b[1;32m---> 22\u001b[1;33m \u001b[1;33m(\u001b[0m\u001b[0mA0_fit\u001b[0m\u001b[1;33m,\u001b[0m \u001b[0mm0_fit\u001b[0m\u001b[1;33m,\u001b[0m \u001b[0msigma_fit\u001b[0m\u001b[1;33m)\u001b[0m \u001b[1;33m=\u001b[0m \u001b[0mscipy\u001b[0m\u001b[1;33m.\u001b[0m\u001b[0moptimize\u001b[0m\u001b[1;33m.\u001b[0m\u001b[0mleast_squares\u001b[0m\u001b[1;33m(\u001b[0m\u001b[0mresidual\u001b[0m\u001b[1;33m(\u001b[0m\u001b[0mhist\u001b[0m\u001b[1;33m)\u001b[0m\u001b[1;33m,\u001b[0m \u001b[0mx0\u001b[0m\u001b[1;33m)\u001b[0m\u001b[1;33m.\u001b[0m\u001b[0mx\u001b[0m\u001b[1;33m\u001b[0m\u001b[0m\n\u001b[0m",
      "\u001b[1;31mTypeError\u001b[0m: residual() missing 1 required positional argument: 'hist'"
     ]
    }
   ],
   "source": [
    "import numpy as np\n",
    "\n",
    "import Module1 as m\n",
    "guess = m.gauss(centers)\n",
    "#print(guess)\n",
    "res1 = m.residual(guess, hist)\n",
    "#print(res1)\n",
    "\n",
    "def residual(guess, hist):\n",
    "    res = hist-gauss(mcenters, a0=x[0], mean =x[1], sigma=x[2])\n",
    "    return res\n",
    "\n",
    "#b make a guess\n",
    "\n",
    "A0_guess = 300\n",
    "mean_guess = 400\n",
    "sigma_guess = 20\n",
    "x0 = (A0_guess, mean_guess, sigma_guess)\n",
    "\n",
    "#c\n",
    "import scipy.optimize\n",
    "(A0_fit, m0_fit, sigma_fit) = scipy.optimize.least_squares(residual(hist), x0).x"
   ]
  },
  {
   "cell_type": "markdown",
   "metadata": {},
   "source": [
    "### *TASK 5*\n",
    "\n",
    "The function [scipy.optimize.least_squares](https://docs.scipy.org/doc/scipy/reference/generated/scipy.optimize.least_squares.html) can solve nonlinear least-squares problems. We will use this function to identify the Gaussian model (with parameters $A_0$, $m_0$, and $\\sigma$) that best matches the measured data. The fitted values $m_0$ and $\\sigma$ provide estimates for the mass of HSP 16.5 and the spread of the measured values, respectively.\n",
    "\n",
    "a) Define a function ``err(x)`` that calculates the fit residual (difference of fit and measured data). For using this function later to call [scipy.optimize.least_squares](https://docs.scipy.org/doc/scipy/reference/generated/scipy.optimize.least_squares.html) the argument of ``err`` has to be a tuple of all model parameters, here ``x=(A0, x0, sigma)``.\n",
    "\n",
    "b) For convergence to the correct solution a guess for the model parameters has to be passed to [scipy.optimize.least_squares](https://docs.scipy.org/doc/scipy/reference/generated/scipy.optimize.least_squares.html). Define a starting guess ``x0`` as a tuple of three guessed values for $A_0$, $m_0$, and $\\sigma$. Use the plot that you generated in *TASK 4* to guess the parameters.\n",
    "\n",
    "c) Call ``(A0_fit, x0_fit, sigma_fit) = scipy.optimize.least_squares(err, x0).x0`` and both data and result with consecutive calls of [*matplotlib.pyplot.plot*](https://matplotlib.org/api/_as_gen/matplotlib.pyplot.plot.html).\n",
    "\n",
    "d) Print the fitted parameters $m_0$ and $\\sigma$ to the screen and compare to the values obtained in *TASK 2*.\n",
    "\n",
    "**Advanced**: Make a legend by using the ``label`` parameter of [*matplotlib.pyplot.plot*](https://matplotlib.org/api/_as_gen/matplotlib.pyplot.plot.html) and by calling at the end of the cell [*matplotlib.pyplot.legend*](https://matplotlib.org/api/_as_gen/matplotlib.pyplot.legend.html)."
   ]
  },
  {
   "cell_type": "code",
   "execution_count": null,
   "metadata": {},
   "outputs": [],
   "source": []
  },
  {
   "cell_type": "code",
   "execution_count": null,
   "metadata": {},
   "outputs": [],
   "source": []
  },
  {
   "cell_type": "code",
   "execution_count": null,
   "metadata": {},
   "outputs": [],
   "source": []
  },
  {
   "cell_type": "code",
   "execution_count": null,
   "metadata": {},
   "outputs": [],
   "source": []
  },
  {
   "cell_type": "code",
   "execution_count": null,
   "metadata": {},
   "outputs": [],
   "source": []
  },
  {
   "cell_type": "code",
   "execution_count": null,
   "metadata": {},
   "outputs": [],
   "source": []
  },
  {
   "cell_type": "code",
   "execution_count": null,
   "metadata": {},
   "outputs": [],
   "source": []
  },
  {
   "cell_type": "code",
   "execution_count": null,
   "metadata": {},
   "outputs": [],
   "source": []
  },
  {
   "cell_type": "code",
   "execution_count": null,
   "metadata": {},
   "outputs": [],
   "source": []
  }
 ],
 "metadata": {
  "kernelspec": {
   "display_name": "Python 3",
   "language": "python",
   "name": "python3"
  },
  "language_info": {
   "codemirror_mode": {
    "name": "ipython",
    "version": 3
   },
   "file_extension": ".py",
   "mimetype": "text/x-python",
   "name": "python",
   "nbconvert_exporter": "python",
   "pygments_lexer": "ipython3",
   "version": "3.7.0"
  }
 },
 "nbformat": 4,
 "nbformat_minor": 2
}
