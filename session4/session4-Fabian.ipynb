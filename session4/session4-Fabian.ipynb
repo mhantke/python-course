{
 "cells": [
  {
   "cell_type": "markdown",
   "metadata": {},
   "source": [
    "Author: **Fabian**"
   ]
  },
  {
   "cell_type": "markdown",
   "metadata": {},
   "source": [
    "# 4. Data visualisation and peak fitting"
   ]
  },
  {
   "cell_type": "markdown",
   "metadata": {},
   "source": [
    "### Goals\n",
    "\n",
    "- create your first own Git repository\n",
    "- reading iSCAMS data from a file and rescale the values\n",
    "- plot a histogram using the package *matplotlib* and save the plot to a file\n",
    "- fit a gaussian function to the histogram with the package *scipy* and determine the average protein mass"
   ]
  },
  {
   "cell_type": "markdown",
   "metadata": {},
   "source": [
    "### Introduction\n",
    "\n",
    "In this folder you will find the file ``hsp165.txt`` that contains the interferometric contrasts of single proteins (HSP 16.5) measured by iSCAMS (stands for interferometric scattering mass spectrometry). The interferometric contrast is proportional to the particle mass (for this measurement an interferometric contrast of $\\approx2.2\\times10^{-5}$ corresponds to a protein mass of 1 kDa."
   ]
  },
  {
   "cell_type": "code",
   "execution_count": 1,
   "metadata": {},
   "outputs": [],
   "source": [
    "# Before we start we need to import the maths library\n",
    "import numpy\n",
    "# a library with tools for scientific data analysis\n",
    "import scipy\n",
    "\n",
    "import matplotlib"
   ]
  },
  {
   "cell_type": "markdown",
   "metadata": {},
   "source": [
    "### *TASK 1*\n",
    "\n",
    "Load the interferometric contrasts from the file into a *numpy-array* of floating point values. Determine the number of values in the array and confirm that the number matches the number of lines in the file ``hsp164.txt`` (check this number for example by opening the file in a text editor)."
   ]
  },
  {
   "cell_type": "code",
   "execution_count": 5,
   "metadata": {},
   "outputs": [
    {
     "data": {
      "text/plain": [
       "2474"
      ]
     },
     "execution_count": 5,
     "metadata": {},
     "output_type": "execute_result"
    }
   ],
   "source": [
    "with open('hsp165.txt') as file_handle:\n",
    "    data=file_handle.readlines()\n",
    "    contrast=[]\n",
    "    for line in data:\n",
    "        cont=float(line)\n",
    "        contrast.append(cont)\n",
    "contrast=numpy.array(contrast)\n"
   ]
  },
  {
   "cell_type": "markdown",
   "metadata": {},
   "source": [
    "### *TASK 2*\n",
    "\n",
    "Convert the measured interferometric contrasts into the unit kDa and and use the *numpy-array* methods to determine the \n",
    "\n",
    "- minimum\n",
    "- maximum\n",
    "- mean\n",
    "- standard deviation\n",
    "\n",
    "of the converted values and print your results to the screen."
   ]
  },
  {
   "cell_type": "code",
   "execution_count": 18,
   "metadata": {},
   "outputs": [],
   "source": [
    "convert=2.2*10**(-5)\n",
    "mw=contrast/convert"
   ]
  },
  {
   "cell_type": "code",
   "execution_count": 19,
   "metadata": {},
   "outputs": [
    {
     "name": "stdout",
     "output_type": "stream",
     "text": [
      "51.24849999999999\n",
      "2350.7934545454546\n",
      "398.25678823399716\n",
      "89.4593961522986\n"
     ]
    }
   ],
   "source": [
    "print(numpy.min(mw))\n",
    "print(numpy.max(mw))\n",
    "print(numpy.mean(mw))\n",
    "print(numpy.std(mw))"
   ]
  },
  {
   "cell_type": "markdown",
   "metadata": {},
   "source": [
    "### *TASK 3*\n",
    "\n",
    "a) Use the function [*matplotlib.pyplot.histogram*](https://matplotlib.org/api/_as_gen/matplotlib.pyplot.hist.html) function to calculate and display the histogram of the measured values.\n",
    "\n",
    "b) Adjust the parameters ``bins`` and ``range`` to improve your plot.\n",
    "\n",
    "\n",
    "c) Annotate your axes by using the functions [*matplotlib.pyplot.xlabel*](https://matplotlib.org/api/_as_gen/matplotlib.pyplot.xlabel.html) and [*matplotlib.pyplot.ylabel*](https://matplotlib.org/api/_as_gen/matplotlib.pyplot.ylabel.html).\n",
    "\n",
    "d) Save the histogram to a PNG file ``hist_hsp.png`` at 400 dpi resolution (search on the web for the suitable *matplotlib* function)."
   ]
  },
  {
   "cell_type": "code",
   "execution_count": 20,
   "metadata": {},
   "outputs": [],
   "source": [
    "# Import of the matplotlib package for plotting\n",
    "import matplotlib\n",
    "# and magic to activate inline-plotting between the notebook cells\n",
    "%matplotlib inline"
   ]
  },
  {
   "cell_type": "code",
   "execution_count": 39,
   "metadata": {},
   "outputs": [
    {
     "data": {
      "image/png": "[encoded data removed]",
      "text/plain": [
       "<matplotlib.figure.Figure at 0xacb40b8>"
      ]
     },
     "metadata": {},
     "output_type": "display_data"
    }
   ],
   "source": [
    "hist(mw, bins=100,range=[0,800]);\n",
    "xlabel('MW /kDa')\n",
    "ylabel('counts')\n",
    "savefig('hist_hsp_fabs.png', dpi=400);"
   ]
  },
  {
   "cell_type": "markdown",
   "metadata": {},
   "source": [
    "### *TASK 4*\n",
    "\n",
    "a) The function [*matplotlib.pyplot.histogram*](https://matplotlib.org/api/_as_gen/matplotlib.pyplot.hist.html) returns three objects. We are interested in the first two:\n",
    "\n",
    "  - *numpy-array* of histogram values (number of particles that had a mass within the limits of the respective bin)\n",
    "  - *numpy-array* of the limits of the histogram bins\n",
    "\n",
    " Save the two arrays as ``hist`` and ``m_edges`` and check their lengths. Why are they not the same?\n",
    " Save the third array into the variable ``_``.\n",
    " \n",
    "b) Calculate the *numpy-array* ``m_centers`` with values between the values of ``m_edges`` and a length ``len(m_edges)-1``.\n",
    "\n",
    "c) Make a line plot of ``m_centers`` vs. ``hist`` by using the function [*matplotlib.pyplot.plot*](https://matplotlib.org/api/_as_gen/matplotlib.pyplot.plot.html). \n",
    "\n",
    "d) Label the axes.\n",
    "\n",
    "e) Use the same function as in *TASK 3* to save the plot to the PNG file ``hist_hsp_line.png`` at 400 dpi resolution."
   ]
  },
  {
   "cell_type": "code",
   "execution_count": 44,
   "metadata": {},
   "outputs": [
    {
     "name": "stdout",
     "output_type": "stream",
     "text": [
      "100\n",
      "101\n",
      "100\n"
     ]
    },
    {
     "data": {
      "image/png": "[encoded data removed]",
      "text/plain": [
       "<matplotlib.figure.Figure at 0xbba0d30>"
      ]
     },
     "metadata": {},
     "output_type": "display_data"
    }
   ],
   "source": [
    "hist=matplotlib.pyplot.hist(mw, bins=100,range=[0,800])[0];\n",
    "m_edges=matplotlib.pyplot.hist(mw, bins=100,range=[0,800])[1];\n",
    "_=matplotlib.pyplot.hist(mw, bins=100,range=[0,800])[2];\n",
    "print(len(hist))\n",
    "print(len(m_edges))\n",
    "print(len(_))"
   ]
  },
  {
   "cell_type": "code",
   "execution_count": 56,
   "metadata": {},
   "outputs": [
    {
     "data": {
      "image/png": "[encoded data removed]",
      "text/plain": [
       "<matplotlib.figure.Figure at 0xb074208>"
      ]
     },
     "metadata": {},
     "output_type": "display_data"
    }
   ],
   "source": [
    "low=len(m_edges)-1\n",
    "up=len(m_edges)\n",
    "m_centers=m_edges[:-1]+(m_edges[1]-m_edges[0])/2\n",
    "plot(m_centers,hist)\n",
    "xlabel('MW /kDa')\n",
    "ylabel('counts')\n",
    "savefig('hist_hsp_line_fabs.png', dpi=400);"
   ]
  },
  {
   "cell_type": "markdown",
   "metadata": {},
   "source": [
    "### *TASK 4*\n",
    "\n",
    "In taks 5 we want to determine the mass of HSP 16.5 by fitting a Gaussian function to the histogram.\n",
    "\n",
    "The Gaussian function is defined as \n",
    "\n",
    "$$g(x) = A_0 \\exp\\left( -\\frac{\\left(m-m_0\\right)^2}{2 \\sigma^2} \\right)$$\n",
    "\n",
    "a) Write a corresponding Python function ``gauss(m, A0, m0, sigma)`` that returns $g(x)$.\n",
    "\n",
    "b) Assign the default values $A_0=1$, $m_0=0$, $\\sigma=1$.\n",
    "\n",
    "c) Confirm that the function returns the value $e^{-1/2}\\approx0.61$ for $m=1$, $A_0=1$, $m_0=0$, and $\\sigma=1$. "
   ]
  },
  {
   "cell_type": "code",
   "execution_count": null,
   "metadata": {},
   "outputs": [],
   "source": []
  },
  {
   "cell_type": "markdown",
   "metadata": {},
   "source": [
    "### *TASK 5*\n",
    "\n",
    "The function [scipy.optimize.least_squares](https://docs.scipy.org/doc/scipy/reference/generated/scipy.optimize.least_squares.html) can solve nonlinear least-squares problems. We will use this function to identify the Gaussian model (with parameters $A_0$, $m_0$, and $\\sigma$) that best matches the measured data. The fitted values $m_0$ and $\\sigma$ provide estimates for the mass of HSP 16.5 and the spread of the measured values, respectively.\n",
    "\n",
    "a) Define a function ``err(x)`` that calculates the fit residual (difference of fit and measured data). For using this function later to call [scipy.optimize.least_squares](https://docs.scipy.org/doc/scipy/reference/generated/scipy.optimize.least_squares.html) the argument of ``err`` has to be a tuple of all model parameters, here ``x=(A0, x0, sigma)``.\n",
    "\n",
    "b) For convergence to the correct solution a guess for the model parameters has to be passed to [scipy.optimize.least_squares](https://docs.scipy.org/doc/scipy/reference/generated/scipy.optimize.least_squares.html). Define a starting guess ``x0`` as a tuple of three guessed values for $A_0$, $m_0$, and $\\sigma$. Use the plot that you generated in *TASK 4* to guess the parameters.\n",
    "\n",
    "c) Call ``(A0_fit, x0_fit, sigma_fit) = scipy.optimize.least_squares(err, x0).x0`` and both data and result with consecutive calls of [*matplotlib.pyplot.plot*](https://matplotlib.org/api/_as_gen/matplotlib.pyplot.plot.html).\n",
    "\n",
    "d) Print the fitted parameters $m_0$ and $\\sigma$ to the screen and compare to the values obtained in *TASK 2*.\n",
    "\n",
    "**Advanced**: Make a legend by using the ``label`` parameter of [*matplotlib.pyplot.plot*](https://matplotlib.org/api/_as_gen/matplotlib.pyplot.plot.html) and by calling at the end of the cell [*matplotlib.pyplot.legend*](https://matplotlib.org/api/_as_gen/matplotlib.pyplot.legend.html)."
   ]
  },
  {
   "cell_type": "code",
   "execution_count": null,
   "metadata": {},
   "outputs": [],
   "source": [
    "# TYPE YOUR SOLUTION HERE"
   ]
  }
 ],
 "metadata": {
  "kernelspec": {
   "display_name": "Python 3",
   "language": "python",
   "name": "python3"
  },
  "language_info": {
   "codemirror_mode": {
    "name": "ipython",
    "version": 3
   },
   "file_extension": ".py",
   "mimetype": "text/x-python",
   "name": "python",
   "nbconvert_exporter": "python",
   "pygments_lexer": "ipython3",
   "version": "3.6.4"
  }
 },
 "nbformat": 4,
 "nbformat_minor": 2
}
