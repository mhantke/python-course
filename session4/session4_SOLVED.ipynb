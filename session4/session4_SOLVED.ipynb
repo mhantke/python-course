{
 "cells": [
  {
   "cell_type": "markdown",
   "metadata": {},
   "source": [
    "Author: ****"
   ]
  },
  {
   "cell_type": "markdown",
   "metadata": {},
   "source": [
    "# 4. Data visualisation and peak fitting"
   ]
  },
  {
   "cell_type": "markdown",
   "metadata": {},
   "source": [
    "### Goals\n",
    "\n",
    "- create your first own Git repository\n",
    "- reading iSCAMS data from a file and rescale the values\n",
    "- plot a histogram using the package *matplotlib* and save the plot to a file\n",
    "- fit a gaussian function to the histogram with the package *scipy* and determine the average protein mass"
   ]
  },
  {
   "cell_type": "markdown",
   "metadata": {},
   "source": [
    "### Introduction\n",
    "\n",
    "In this folder you will find the file ``hsp165.txt`` that contains the interferometric contrasts of single proteins (HSP 16.5) measured by iSCAMS (stands for interferometric scattering mass spectrometry). The interferometric contrast is proportional to the particle mass (for this measurement an interferometric contrast of $\\approx2.2\\times10^{-5}$ corresponds to a protein mass of 1 kDa."
   ]
  },
  {
   "cell_type": "code",
   "execution_count": 1,
   "metadata": {},
   "outputs": [],
   "source": [
    "# Before we start we need to import the maths library\n",
    "import numpy\n",
    "# a library with tools for scientific data analysis\n",
    "import scipy"
   ]
  },
  {
   "cell_type": "markdown",
   "metadata": {},
   "source": [
    "### *TASK 1*\n",
    "\n",
    "Load the interferometric contrasts from the file into a *numpy-array* of floating point values. Determine the number of values in the array and confirm that the number matches the number of lines in the file ``hsp165.txt`` (check this number for example by opening the file in a text editor)."
   ]
  },
  {
   "cell_type": "code",
   "execution_count": 6,
   "metadata": {},
   "outputs": [
    {
     "name": "stdout",
     "output_type": "stream",
     "text": [
      "Number of lines: 2474\n",
      "Number of values: 2474\n"
     ]
    }
   ],
   "source": [
    "with open('hsp165.txt', 'r') as f:\n",
    "    print(f\"Number of lines: {len(f.readlines())}\")\n",
    "\n",
    "data = numpy.loadtxt('hsp165.txt')\n",
    "print(f\"Number of values: {len(data)}\")\n"
   ]
  },
  {
   "cell_type": "markdown",
   "metadata": {},
   "source": [
    "### *TASK 2*\n",
    "\n",
    "Convert the measured interferometric contrasts into the unit kDa and and use the *numpy-array* methods to determine the \n",
    "\n",
    "- minimum\n",
    "- maximum\n",
    "- mean\n",
    "- standard deviation\n",
    "\n",
    "of the converted values and print your results to the screen."
   ]
  },
  {
   "cell_type": "code",
   "execution_count": 11,
   "metadata": {
    "collapsed": true
   },
   "outputs": [
    {
     "name": "stdout",
     "output_type": "stream",
     "text": [
      "Minimum mass: 51.2 kDa\n",
      "Maximum mass: 2350.8 kDa\n",
      "Mean mass: 398.3 kDa\n",
      "Standard deveiation of masses: 89.5 kDa\n"
     ]
    }
   ],
   "source": [
    "scaling_factor = 2.2E-5 # per kDa\n",
    "masses = data / scaling_factor\n",
    "\n",
    "print(f\"Minimum mass: {masses.min():.1f} kDa\")\n",
    "print(f\"Maximum mass: {masses.max():.1f} kDa\")\n",
    "print(f\"Mean mass: {masses.mean():.1f} kDa\")\n",
    "print(f\"Standard deveiation of masses: {masses.std():.1f} kDa\")"
   ]
  },
  {
   "cell_type": "markdown",
   "metadata": {},
   "source": [
    "### *TASK 3*\n",
    "\n",
    "a) Use the function [*matplotlib.pyplot.hist*](https://matplotlib.org/api/_as_gen/matplotlib.pyplot.hist.html) function to display the histogram of the measured values.\n",
    "\n",
    "b) Adjust the parameters ``bins`` and ``range`` to improve your plot.\n",
    "\n",
    "\n",
    "c) Annotate your axes by using the functions [*matplotlib.pyplot.xlabel*](https://matplotlib.org/api/_as_gen/matplotlib.pyplot.xlabel.html) and [*matplotlib.pyplot.ylabel*](https://matplotlib.org/api/_as_gen/matplotlib.pyplot.ylabel.html).\n",
    "\n",
    "d) Save the histogram to a PNG file ``hist_hsp.png`` at 400 dpi resolution (search on the web for the suitable *matplotlib* function)."
   ]
  },
  {
   "cell_type": "code",
   "execution_count": 12,
   "metadata": {},
   "outputs": [],
   "source": [
    "# Import of the matplotlib package for plotting\n",
    "import matplotlib\n",
    "# and magic to activate inline-plotting between the notebook cells\n",
    "%matplotlib inline"
   ]
  },
  {
   "cell_type": "code",
   "execution_count": 35,
   "metadata": {},
   "outputs": [
    {
     "data": {
      "image/png": "[encoded data removed]",
      "text/plain": [
       "<Figure size 432x288 with 1 Axes>"
      ]
     },
     "metadata": {},
     "output_type": "display_data"
    }
   ],
   "source": [
    "# a) and b) Calculate and plot histogram and adjust bins and range\n",
    "matplotlib.pyplot.hist(masses, bins=50, range=(200, 600))\n",
    "# c) Annotate axes\n",
    "matplotlib.pyplot.xlabel('Mass / kDa')\n",
    "matplotlib.pyplot.ylabel('Number of particles')\n",
    "# d) Save to file\n",
    "matplotlib.pyplot.savefig('histogram_SOLVED.png', dpi=400)"
   ]
  },
  {
   "cell_type": "markdown",
   "metadata": {},
   "source": [
    "**This is the saved figure as PNG image inserted into a markdown cell:**\n",
    "\n",
    "<img src=\"histogram_SOLVED.png\" width=400>"
   ]
  },
  {
   "cell_type": "markdown",
   "metadata": {},
   "source": [
    "### *TASK 4*\n",
    "\n",
    "a) The function [*matplotlib.pyplot.hist*](https://matplotlib.org/api/_as_gen/matplotlib.pyplot.hist.html) returns three objects. We are interested in the first two:\n",
    "\n",
    "  - *numpy-array* of histogram values (number of particles that had a mass within the limits of the respective bin)\n",
    "  - *numpy-array* of the limits of the histogram bins\n",
    "\n",
    " Save the two arrays as ``hist`` and ``m_edges`` and check their lengths. Why are they not the same?\n",
    " Save the third array into the variable ``_``.\n",
    " \n",
    "b) Calculate the *numpy-array* ``m_centers`` with values between the values of ``m_edges`` and a length ``len(m_edges)-1``.\n",
    "\n",
    "c) Make a line plot of ``m_centers`` vs. ``hist`` by using the function [*matplotlib.pyplot.plot*](https://matplotlib.org/api/_as_gen/matplotlib.pyplot.plot.html). \n",
    "\n",
    "d) Label the axes.\n",
    "\n",
    "e) Use the same function as in *TASK 3* to save the plot to the PNG file ``hist_hsp_line.png`` at 400 dpi resolution."
   ]
  },
  {
   "cell_type": "code",
   "execution_count": 66,
   "metadata": {},
   "outputs": [
    {
     "name": "stdout",
     "output_type": "stream",
     "text": [
      "The length of hist is: 50\n",
      "The length of m_edges is: 51\n"
     ]
    },
    {
     "data": {
      "image/png": "[encoded data removed]",
      "text/plain": [
       "<Figure size 1080x288 with 2 Axes>"
      ]
     },
     "metadata": {},
     "output_type": "display_data"
    }
   ],
   "source": [
    "# Initialise figure and axes\n",
    "fig, (ax1, ax2) = matplotlib.pyplot.subplots(1, 2, figsize=(15, 4), sharey=True)\n",
    "\n",
    "# a) Assign output variables of matplotlib.pyplot.hist() to hist, m_edges, and _\n",
    "hist, m_edges, _ = ax1.hist(masses, bins=50, range=(200, 600))\n",
    "print(f\"The length of hist is: {len(hist)}\")\n",
    "print(f\"The length of m_edges is: {len(m_edges)}\")\n",
    "\n",
    "# b) Determine the center positions and save them as m_centers \n",
    "m_centers = m_edges[:-1] + (m_edges[1]-m_edges[0])/2\n",
    "\n",
    "# c) Make a line plot of the histogram\n",
    "ax2.plot(m_centers, hist)\n",
    "\n",
    "# d) Label the axes\n",
    "ax1.set_xlabel('Mass / kDa')\n",
    "ax1.set_ylabel('Number of particles')\n",
    "ax2.set_xlabel('Mass / kDa')\n",
    "\n",
    "# e) Save to PNG\n",
    "matplotlib.pyplot.tight_layout()\n",
    "fig.savefig('hist_hsp_line.png', dpi=400)"
   ]
  },
  {
   "cell_type": "markdown",
   "metadata": {},
   "source": [
    "**This is the saved figure as PNG image inserted into a markdown cell:**\n",
    "\n",
    "<img src=\"hist_hsp_line.png\" width=800>"
   ]
  },
  {
   "cell_type": "markdown",
   "metadata": {},
   "source": [
    "### *TASK 4*\n",
    "\n",
    "In taks 5 we want to determine the mass of HSP 16.5 by fitting a Gaussian function to the histogram.\n",
    "\n",
    "The Gaussian function is defined as \n",
    "\n",
    "$$g(x) = A_0 \\exp\\left( -\\frac{\\left(m-m_0\\right)^2}{2 \\sigma^2} \\right)$$\n",
    "\n",
    "a) Write a corresponding Python function ``gauss(m, A0, m0, sigma)`` that returns $g(x)$.\n",
    "\n",
    "b) Assign the default values $A_0=1$, $m_0=0$, $\\sigma=2$.\n",
    "\n",
    "c) Confirm that the function returns the value $e^{-1/2}\\approx0.88$ for $m=1$, $A_0=1$, $m_0=0$, and $\\sigma=2$. "
   ]
  },
  {
   "cell_type": "code",
   "execution_count": 83,
   "metadata": {},
   "outputs": [
    {
     "name": "stdout",
     "output_type": "stream",
     "text": [
      "gauss(1, 1, 0, 2) = 0.8824969025845955\n"
     ]
    }
   ],
   "source": [
    "# a) and b) Write and test the function gauss(m, A0, m0, sigma) and assign default values\n",
    "import numpy\n",
    "def gauss(m, A0=1, m0=0, sigma=2):\n",
    "    return A0*numpy.exp(-(m-m0)**2/(2*sigma**2))\n",
    "\n",
    "# c) Test the function\n",
    "test_result = gauss(1)\n",
    "print(f\"gauss(1, 1, 0, 2) = {test_result}\")\n",
    "assert numpy.isclose(test_result, 0.88, atol=0.051), \"The function gauss() has not passed the test.\""
   ]
  },
  {
   "cell_type": "markdown",
   "metadata": {},
   "source": [
    "### *TASK 5*\n",
    "\n",
    "The function [scipy.optimize.least_squares](https://docs.scipy.org/doc/scipy/reference/generated/scipy.optimize.least_squares.html) can solve nonlinear least-squares problems. We will use this function to identify the Gaussian model (with parameters $A_0$, $m_0$, and $\\sigma$) that best matches the measured data. The fitted values $m_0$ and $\\sigma$ provide estimates for the mass of HSP 16.5 and the spread of the measured values, respectively.\n",
    "\n",
    "a) Define a function ``err(x)`` that calculates the fit residual (difference of fit and measured data). For using this function later to call [scipy.optimize.least_squares](https://docs.scipy.org/doc/scipy/reference/generated/scipy.optimize.least_squares.html) the argument of ``err`` has to be a tuple of all model parameters, here ``x=(A0, m0, sigma)``.\n",
    "\n",
    "b) For convergence to the correct solution a guess for the model parameters has to be passed to [scipy.optimize.least_squares](https://docs.scipy.org/doc/scipy/reference/generated/scipy.optimize.least_squares.html). Define a starting guess ``x0`` as a tuple of three guessed values for $A_0$, $m_0$, and $\\sigma$. Use the plot that you generated in *TASK 4* to guess the parameters.\n",
    "\n",
    "c) Call ``(A0_fit, m0_fit, sigma_fit) = scipy.optimize.least_squares(err, x0).x`` and both data and result with consecutive calls of [*matplotlib.pyplot.plot*](https://matplotlib.org/api/_as_gen/matplotlib.pyplot.plot.html).\n",
    "\n",
    "d) Plot the fitting result together with your data.\n",
    "\n",
    "e) Print the fitted parameters $m_0$ and $\\sigma$ to the screen and compare to the values obtained in *TASK 2*.\n",
    "\n",
    "**Advanced**: Make a legend by using the ``label`` parameter of [*matplotlib.pyplot.plot*](https://matplotlib.org/api/_as_gen/matplotlib.pyplot.plot.html) and by calling at the end of the cell [*matplotlib.pyplot.legend*](https://matplotlib.org/api/_as_gen/matplotlib.pyplot.legend.html)."
   ]
  },
  {
   "cell_type": "code",
   "execution_count": 104,
   "metadata": {},
   "outputs": [
    {
     "name": "stdout",
     "output_type": "stream",
     "text": [
      "Center mass: 391.2 kDa\n",
      "Peak standard deviation: 24.7 kDa\n"
     ]
    },
    {
     "data": {
      "image/png": "[encoded data removed]",
      "text/plain": [
       "<Figure size 432x288 with 1 Axes>"
      ]
     },
     "metadata": {},
     "output_type": "display_data"
    }
   ],
   "source": [
    "# a) Define err(x)\n",
    "def err(x):\n",
    "    return (hist-gauss(m_centers, A0=x[0], m0=x[1], sigma=x[2]))\n",
    "\n",
    "# b) Make a guess\n",
    "A0_guess = 800\n",
    "m0_guess = 400\n",
    "sigma_guess = 100\n",
    "x0 = (A0_guess, m0_guess, sigma_guess)\n",
    "\n",
    "# c) Least-squared optimisation\n",
    "import scipy.optimize\n",
    "(A0_fit, m0_fit, sigma_fit) = scipy.optimize.least_squares(err, x0).x\n",
    "\n",
    "# d) Plot result and data\n",
    "matplotlib.pyplot.plot(m_centers, hist, label='Data')\n",
    "hist_fit = gauss(m_centers, A0_fit, m0_fit, sigma_fit)\n",
    "matplotlib.pyplot.plot(m_centers, hist_fit, label='Fit')\n",
    "matplotlib.pyplot.legend()\n",
    "\n",
    "# e) Print fitting values\n",
    "print(f\"Center mass: {m0_fit:.1f} kDa\")\n",
    "print(f\"Peak standard deviation: {sigma_fit:.1f} kDa\")\n"
   ]
  }
 ],
 "metadata": {
  "kernelspec": {
   "display_name": "Python 3",
   "language": "python",
   "name": "python3"
  },
  "language_info": {
   "codemirror_mode": {
    "name": "ipython",
    "version": 3
   },
   "file_extension": ".py",
   "mimetype": "text/x-python",
   "name": "python",
   "nbconvert_exporter": "python",
   "pygments_lexer": "ipython3",
   "version": "3.6.4"
  }
 },
 "nbformat": 4,
 "nbformat_minor": 2
}
