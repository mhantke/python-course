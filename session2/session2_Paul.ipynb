{
 "cells": [
  {
   "cell_type": "markdown",
   "metadata": {},
   "source": [
    "Author: **Nobody**"
   ]
  },
  {
   "cell_type": "markdown",
   "metadata": {},
   "source": [
    "# 2. Using Python"
   ]
  },
  {
   "cell_type": "markdown",
   "metadata": {},
   "source": [
    "### Goals\n",
    "\n",
    "\n",
    "- learn to solve simple problems in *Python* \n",
    "- learn how to write/read a text file"
   ]
  },
  {
   "cell_type": "markdown",
   "metadata": {},
   "source": [
    "Recommended resource: https://www.tutorialspoint.com/python/"
   ]
  },
  {
   "cell_type": "markdown",
   "metadata": {},
   "source": [
    "### Introduction\n",
    "\n",
    "The 2D euclidian distance between two points $A=(A_0, A_1)$ and $B=(B_0, B_1)$ is calculated as:\n",
    "$$\\left|AB\\right|=\\sqrt{(A_0-B_0)^2+(A_1-B_1)^2}$$\n",
    "\n",
    "The general formula for $n$-dimensional points is\n",
    "$$\\left|AB\\right|=\\sqrt{\\sum_{i=0}^{n-1}(A_i-B_i)^2}$$\n",
    "\n",
    "*Note:* In most programming languages, one starts counting from 0… so dimensions go from $0$ to $n-1$, and not from $1$ to $n$."
   ]
  },
  {
   "cell_type": "markdown",
   "metadata": {},
   "source": [
    "### *TASK 1*\n",
    "\n",
    "Compute and print the euclidean distance between two 2D points $(A_0,B_0)=(0,0)$ and $(A_1,B_1)=(1,1)$.\n",
    "\n",
    "*Hint:* $\\sqrt{a}=a^{\\frac{1}{2}}$"
   ]
  },
  {
   "cell_type": "code",
   "execution_count": null,
   "metadata": {},
   "outputs": [],
   "source": [
    "a = [0, 0]\n",
    "b = [1, 1]\n",
    "\n",
    "# A function to calculate the euclidian distance between two 2d points - put their coordinates in as lists with 2 elements\n",
    "def calc2Ddistance(point1, point2):\n",
    "    dist = ((point2[0] - point1 [0])**2 + (point2[1] - point1[1])**2)**0.5\n",
    "    return dist\n",
    "\n",
    "print(calc2Ddistance(a, b))\n",
    "    "
   ]
  },
  {
   "cell_type": "markdown",
   "metadata": {},
   "source": [
    "### *TASK 2*\n",
    "\n",
    "Compute the euclidean distance between two 2D points, print a warning signal if the points have the same coordinates, print the distance otherwise."
   ]
  },
  {
   "cell_type": "code",
   "execution_count": null,
   "metadata": {
    "collapsed": true
   },
   "outputs": [],
   "source": [
    "a = [0, 0]\n",
    "b = [0, 1]\n",
    "\n",
    "# A function to calculate the euclidian distance between two 2d points - put their coordinates in as lists with 2 elements\n",
    "def calc2Ddistance(point1, point2):\n",
    "    dist = ((point2[0] - point1 [0])**2 + (point2[1] - point1[1])**2)**0.5\n",
    "    if dist == 0:\n",
    "        raise Exception('The Points have the same coordinates')     \n",
    "    return dist\n",
    "\n",
    "print(\"The Distance is: \", calc2Ddistance(a, b))\n",
    "    "
   ]
  },
  {
   "cell_type": "markdown",
   "metadata": {},
   "source": [
    "### *TASK 3*\n",
    "\n",
    "Define and call a function computing the euclidean distance between two 2D points.\n",
    "\n",
    "**Advanced:** Save the function in another file called measure.py, import and call it."
   ]
  },
  {
   "cell_type": "code",
   "execution_count": 24,
   "metadata": {},
   "outputs": [
    {
     "name": "stdout",
     "output_type": "stream",
     "text": [
      "The Distance is:  1.0\n"
     ]
    }
   ],
   "source": [
    "# A function to calculate the euclidian distance between two 2d points - put their coordinates in as lists with 2 elements\n",
    "import measure_paul as calDis\n",
    "\n",
    "a = [0, 0]\n",
    "b = [0, 1]\n",
    "print(\"The Distance is: \", calDis.calc2Ddistance(a, b))"
   ]
  },
  {
   "cell_type": "markdown",
   "metadata": {},
   "source": [
    "### *TASK 4*\n",
    "\n",
    "Define and call a function computing the euclidean distance between two 2D points. Represent points as lists containing 2 elements (i.e. x and y coordinate)."
   ]
  },
  {
   "cell_type": "code",
   "execution_count": 4,
   "metadata": {},
   "outputs": [],
   "source": [
    "# see Task 2\n"
   ]
  },
  {
   "cell_type": "markdown",
   "metadata": {},
   "source": [
    "### *TASK 5*\n",
    "\n",
    "Define and call a function computing the euclidean distance between two n-dimensional points. Represent point coordinates as lists, i.e. ``p1=[0,0,…]``, ``p2=[1,1,…]``.\n",
    "\n",
    "*Hint:* you will need a loop!\n",
    "\n",
    "**Advanced:** Make sure that lists have the same lengths."
   ]
  },
  {
   "cell_type": "code",
   "execution_count": 9,
   "metadata": {},
   "outputs": [
    {
     "name": "stdout",
     "output_type": "stream",
     "text": [
      "3\n",
      "i equals:  0 distSq equals:  9\n",
      "i equals:  1 distSq equals:  13\n",
      "i equals:  2 distSq equals:  15.999824\n",
      "The Distance is:  3.9999779999394995\n"
     ]
    }
   ],
   "source": [
    "a = [0, 0, 0]\n",
    "b = [3, 2, 1.732]\n",
    "\n",
    "# A function to calculate the euclidian distance between two nd points - put their coordinates in as lists with n elements\n",
    "def calcnDdistance(aa, bb):\n",
    "    if len(a) != len(b):\n",
    "        raise Exception(\"Points have different dimension\")\n",
    "    if a == b:\n",
    "        raise Exception('The Points have the same coordinates')  \n",
    "    distSq = 0\n",
    "    i = 0\n",
    "    print(len(a))\n",
    "    while i < len(a):\n",
    "        distSq += (b[i] - a [i])**2\n",
    "        print(\"i equals: \", i, \"distSq equals: \", distSq)\n",
    "        i += 1\n",
    "    dist = distSq**0.5         \n",
    "    \n",
    "  \n",
    "    return dist\n",
    "\n",
    "print(\"The Distance is: \", calcnDdistance(a, b))\n"
   ]
  },
  {
   "cell_type": "markdown",
   "metadata": {},
   "source": [
    "### *TASK 6*\n",
    "\n",
    "The function below writes a list of point coordinates ``points=[[A0, A1], [B0, B1], ...]`` to a text file. By default the name of the generated text file is ``coords.txt``. The coordinates are written in the follwoing format:\n",
    "\n",
    "```\n",
    "A0 A1\n",
    "B0 B1\n",
    "C0 C1\n",
    "...\n",
    "```\n",
    "\n",
    "Write a function that reads such a file and returns again the list of point coordinates. Make sure that the point coordinates have the data type ``float``.\n",
    "\n",
    "**Advanced:** Confirm whether all read coordinates are matching the input coordinates by comparing with the values in ``points``. "
   ]
  },
  {
   "cell_type": "code",
   "execution_count": null,
   "metadata": {},
   "outputs": [],
   "source": [
    "def write_coords(points, filename='coords.txt'):\n",
    "    \"\"\"\n",
    "    Writes coordinate from list points=[[A0, A1], [B0, B1], ...] to a text file.\n",
    "    \"\"\"\n",
    "    lines = []\n",
    "    with open(filename, 'w') as file:\n",
    "        for coords in points:\n",
    "            line = ''\n",
    "            for coord in coords:\n",
    "                line += f\"{coord} \"\n",
    "            line = line[:-1] + '\\n'\n",
    "            lines.append(line)\n",
    "        file.writelines(lines)\n",
    "    return None"
   ]
  },
  {
   "cell_type": "code",
   "execution_count": null,
   "metadata": {},
   "outputs": [],
   "source": [
    "points1 = [[1.1, 2.1],\n",
    "           [3.2, 2.1]]"
   ]
  },
  {
   "cell_type": "code",
   "execution_count": 45,
   "metadata": {},
   "outputs": [
    {
     "name": "stdout",
     "output_type": "stream",
     "text": [
      "[[1.1, 2.1], [3.2, 2.1]]\n",
      "All right, both lists are identical\n"
     ]
    }
   ],
   "source": [
    "import pandas as pd\n",
    "\n",
    "points1 = [[1.1, 2.1],\n",
    "           [3.2, 2.1]]\n",
    "\n",
    "def write_coords(points, filename='coords.txt'):\n",
    "    \"\"\"\n",
    "    Writes coordinate from list points=[[A0, A1], [B0, B1], ...] to a text file.\n",
    "    \"\"\"\n",
    "    lines = []\n",
    "    with open(filename, 'w') as file:\n",
    "        for coords in points:\n",
    "            line = ''\n",
    "            for coord in coords:\n",
    "                line += f\"{coord} \"\n",
    "            line = line[:-1] + '\\n'\n",
    "            lines.append(line)\n",
    "        file.writelines(lines)\n",
    "    return None\n",
    "\n",
    "# Save Points1 as txt\n",
    "write_coords(points1, filename='koordinaten.txt')\n",
    "\n",
    "# Remimport it\n",
    "def reImport(filename):\n",
    "    file_handle = open(filename, 'r')\n",
    "    listOfStrings = file_handle.readlines()\n",
    "\n",
    "    newPoints = []\n",
    "    for element in listOfStrings:\n",
    "        onePoint = element.split()    # Contains a list of 2 single coordinates as 2 Strings\n",
    "        onePointFloat = []\n",
    "        for number in onePoint:       # Converts the strings to a list of 2 coordinates\n",
    "            onePointFloat.append(float(number))\n",
    "        newPoints.append(onePointFloat)\n",
    "    print(newPoints)\n",
    "\n",
    "    if newPoints == points1:\n",
    "        print('All right, both lists are identical')\n",
    "    return None\n",
    "\n",
    "reImport('koordinaten.txt')\n",
    "\n",
    "#hehe\n"
   ]
  },
  {
   "cell_type": "code",
   "execution_count": null,
   "metadata": {},
   "outputs": [],
   "source": []
  }
 ],
 "metadata": {
  "kernelspec": {
   "display_name": "Python 3",
   "language": "python",
   "name": "python3"
  },
  "language_info": {
   "codemirror_mode": {
    "name": "ipython",
    "version": 3
   },
   "file_extension": ".py",
   "mimetype": "text/x-python",
   "name": "python",
   "nbconvert_exporter": "python",
   "pygments_lexer": "ipython3",
   "version": "3.6.4"
  }
 },
 "nbformat": 4,
 "nbformat_minor": 2
}
