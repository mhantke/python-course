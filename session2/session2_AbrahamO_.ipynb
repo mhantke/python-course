{
 "cells": [
  {
   "cell_type": "markdown",
   "metadata": {},
   "source": [
    "Author: AbrahamO"
   ]
  },
  {
   "cell_type": "markdown",
   "metadata": {},
   "source": [
    "# 2. Using Python"
   ]
  },
  {
   "cell_type": "markdown",
   "metadata": {},
   "source": [
    "### Goals\n",
    "\n",
    "\n",
    "- learn to solve simple problems in *Python* \n",
    "- learn how to write/read a text file"
   ]
  },
  {
   "cell_type": "markdown",
   "metadata": {},
   "source": [
    "Recommended resource: https://www.tutorialspoint.com/python/"
   ]
  },
  {
   "cell_type": "markdown",
   "metadata": {},
   "source": [
    "### Introduction\n",
    "\n",
    "The 2D euclidian distance between two points $A=(A_0, A_1)$ and $B=(B_0, B_1)$ is calculated as:\n",
    "$$\\left|AB\\right|=\\sqrt{(A_0-B_0)^2+(A_1-B_1)^2}$$\n",
    "\n",
    "The general formula for $n$-dimensional points is\n",
    "$$\\left|AB\\right|=\\sqrt{\\sum_{i=0}^{n-1}(A_i-B_i)^2}$$\n",
    "\n",
    "*Note:* In most programming languages, one starts counting from 0… so dimensions go from $0$ to $n-1$, and not from $1$ to $n$."
   ]
  },
  {
   "cell_type": "markdown",
   "metadata": {},
   "source": [
    "### *TASK 1*\n",
    "\n",
    "Compute and print the euclidean distance between two 2D points $(A_0,A_1)=(0,0)$ and $(B_0,B_1)=(1,1)$.\n",
    "\n",
    "*Hint:* $\\sqrt{a}=a^{\\frac{1}{2}}$"
   ]
  },
  {
   "cell_type": "code",
   "execution_count": 2,
   "metadata": {
    "collapsed": false
   },
   "outputs": [
    {
     "name": "stdout",
     "output_type": "stream",
     "text": [
      "The distance between points A and B is 1.4142135623730951\n"
     ]
    }
   ],
   "source": [
    "# TYPE YOUR SOLUTION HERE\n",
    "A_o = 0\n",
    "A_1 = 0\n",
    "B_o = 1\n",
    "B_1 = 1\n",
    "c=((A_o-B_o)**2 + (A_1-B_1)**2)**0.5\n",
    "\n",
    "print(\"The distance between points A and B is\", c)"
   ]
  },
  {
   "cell_type": "markdown",
   "metadata": {},
   "source": [
    "### *TASK 2*\n",
    "\n",
    "Compute the euclidean distance between two 2D points, print a warning signal if the points have the same coordinates, print the distance otherwise."
   ]
  },
  {
   "cell_type": "code",
   "execution_count": 3,
   "metadata": {
    "collapsed": true
   },
   "outputs": [
    {
     "name": "stdout",
     "output_type": "stream",
     "text": [
      "Python is wonderful, your answer is 1.4142135623730951\n"
     ]
    }
   ],
   "source": [
    "# TYPE YOUR SOLUTION HERE\n",
    "if c<=0:\n",
    "    print (\"This is bullshit, make a correction to the coordinates\")\n",
    "else:\n",
    "    print(\"Python is wonderful, your answer is\", c)"
   ]
  },
  {
   "cell_type": "markdown",
   "metadata": {},
   "source": [
    "### *TASK 3*\n",
    "\n",
    "Define and call a function computing the euclidean distance between two 2D points.\n",
    "\n",
    "**Advanced:** Save the function in another file called measure.py, import and call it."
   ]
  },
  {
   "cell_type": "code",
   "execution_count": 14,
   "metadata": {},
   "outputs": [
    {
     "ename": "SyntaxError",
     "evalue": "invalid syntax (<ipython-input-14-4a587a82c6bb>, line 7)",
     "output_type": "error",
     "traceback": [
      "\u001b[1;36m  File \u001b[1;32m\"<ipython-input-14-4a587a82c6bb>\"\u001b[1;36m, line \u001b[1;32m7\u001b[0m\n\u001b[1;33m    def function(distance, (((A_0-B_0)**2) + ((A_1-B_1)**2)**0.5):\u001b[0m\n\u001b[1;37m                           ^\u001b[0m\n\u001b[1;31mSyntaxError\u001b[0m\u001b[1;31m:\u001b[0m invalid syntax\n"
     ]
    }
   ],
   "source": [
    "# TYPE YOUR SOLUTION HERE\n",
    "## This is a call a function to compute the euclidean distance between two points (A_0, B_0) and (A_1, B_1)\n",
    "A_0 = 0\n",
    "A_1 = 0\n",
    "B_0 = 1\n",
    "B_1 = 1\n",
    "\n",
    "def function(distance, (((A_0-B_0)**2) + ((A_1-B_1)**2)**0.5):\n",
    "    \n",
    "    print(\"The distance between points A and B is\", c)"
   ]
  },
  {
   "cell_type": "markdown",
   "metadata": {},
   "source": [
    "### *TASK 4*\n",
    "\n",
    "Define and call a function computing the euclidean distance between two 2D points. Represent points as lists containing 2 elements (i.e. x and y coordinate)."
   ]
  },
  {
   "cell_type": "code",
   "execution_count": null,
   "metadata": {},
   "outputs": [],
   "source": [
    "# TYPE YOUR SOLUTION HERE"
   ]
  },
  {
   "cell_type": "markdown",
   "metadata": {},
   "source": [
    "### *TASK 5*\n",
    "\n",
    "Define and call a function computing the euclidean distance between two n-dimensional points. Represent point coordinates as lists, i.e. ``p1=[0,0,…]``, ``p2=[1,1,…]``.\n",
    "\n",
    "*Hint:* you will need a loop!\n",
    "\n",
    "**Advanced:** Make sure that lists have the same lengths."
   ]
  },
  {
   "cell_type": "code",
   "execution_count": null,
   "metadata": {
    "collapsed": false
   },
   "outputs": [],
   "source": [
    "# TYPE YOUR SOLUTION HERE"
   ]
  },
  {
   "cell_type": "markdown",
   "metadata": {},
   "source": [
    "### *TASK 6*\n",
    "\n",
    "The function below writes a list of point coordinates ``points=[[A0, A1], [B0, B1], ...]`` to a text file. By default the name of the generated text file is ``coords.txt``. The coordinates are written in the follwoing format:\n",
    "\n",
    "```\n",
    "A0 A1\n",
    "B0 B1\n",
    "C0 C1\n",
    "...\n",
    "```\n",
    "\n",
    "Write a function that reads such a file and returns again the list of point coordinates. Make sure that the point coordinates have the data type ``float``.\n",
    "\n",
    "**Advanced:** Confirm whether all read coordinates are matching the input coordinates by comparing with the values in ``points``. "
   ]
  },
  {
   "cell_type": "code",
   "execution_count": 45,
   "metadata": {},
   "outputs": [],
   "source": [
    "def write_coords(points, filename='coords.txt'):\n",
    "    \"\"\"\n",
    "    Writes coordinate from list points=[[A0, A1], [B0, B1], ...] to a text file.\n",
    "    \"\"\"\n",
    "    lines = []\n",
    "    with open(filename, 'w') as file:\n",
    "        for coords in points:\n",
    "            line = ''\n",
    "            for coord in coords:\n",
    "                line += f\"{coord} \"\n",
    "            line = line[:-1] + '\\n'\n",
    "            lines.append(line)\n",
    "        file.writelines(lines)\n",
    "    return None"
   ]
  },
  {
   "cell_type": "code",
   "execution_count": 63,
   "metadata": {},
   "outputs": [],
   "source": [
    "points1 = [[1.1, 2.1],\n",
    "           [3.2, 2.1]]"
   ]
  },
  {
   "cell_type": "code",
   "execution_count": null,
   "metadata": {},
   "outputs": [],
   "source": [
    "# TYPE YOUR SOLUTION HERE"
   ]
  }
 ],
 "metadata": {
  "kernelspec": {
   "display_name": "Python 3",
   "language": "python",
   "name": "python3"
  },
  "language_info": {
   "codemirror_mode": {
    "name": "ipython",
    "version": 3
   },
   "file_extension": ".py",
   "mimetype": "text/x-python",
   "name": "python",
   "nbconvert_exporter": "python",
   "pygments_lexer": "ipython3",
   "version": "3.7.0"
  }
 },
 "nbformat": 4,
 "nbformat_minor": 2
}
