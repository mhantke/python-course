{
 "cells": [
  {
   "cell_type": "markdown",
   "metadata": {},
   "source": [
    "Author: ****"
   ]
  },
  {
   "cell_type": "markdown",
   "metadata": {},
   "source": [
    "# 2. Using Python"
   ]
  },
  {
   "cell_type": "markdown",
   "metadata": {},
   "source": [
    "### Goals\n",
    "\n",
    "\n",
    "- learn to solve simple problems in *Python* \n",
    "- learn how to write/read a text file"
   ]
  },
  {
   "cell_type": "markdown",
   "metadata": {},
   "source": [
    "Recommended resource: https://www.tutorialspoint.com/python/"
   ]
  },
  {
   "cell_type": "markdown",
   "metadata": {},
   "source": [
    "### Introduction\n",
    "\n",
    "The 2D euclidian distance between two points $A=(A_0, A_1)$ and $B=(B_0, B_1)$ is calculated as:\n",
    "$$\\left|AB\\right|=\\sqrt{(A_0-B_0)^2+(A_1-B_1)^2}$$\n",
    "\n",
    "The general formula for $n$-dimensional points is\n",
    "$$\\left|AB\\right|=\\sqrt{\\sum_{i=0}^{n-1}(A_i-B_i)^2}$$\n",
    "\n",
    "*Note:* In most programming languages, one starts counting from 0… so dimensions go from $0$ to $n-1$, and not from $1$ to $n$."
   ]
  },
  {
   "cell_type": "markdown",
   "metadata": {},
   "source": [
    "### *TASK 1*\n",
    "\n",
    "Compute and print the euclidean distance between two 2D points $(A_0,A_1)=(0,0)$ and $(B_0,B_1)=(1,1)$.\n",
    "\n",
    "*Hint:* $\\sqrt{a}=a^{\\frac{1}{2}}$"
   ]
  },
  {
   "cell_type": "code",
   "execution_count": 25,
   "metadata": {},
   "outputs": [
    {
     "name": "stdout",
     "output_type": "stream",
     "text": [
      "1.41421356237\n"
     ]
    }
   ],
   "source": [
    "import numpy\n",
    "\n",
    "A0 = 0\n",
    "A1 = 0\n",
    "B0 = 1\n",
    "B1 = 1\n",
    "\n",
    "distance = numpy.sqrt((A0-B0)**2+(A1-B1)**2)\n",
    "\n",
    "print(distance)"
   ]
  },
  {
   "cell_type": "markdown",
   "metadata": {},
   "source": [
    "### *TASK 2*\n",
    "\n",
    "Compute the euclidean distance between two 2D points, print a warning signal if the points have the same coordinates, print the distance otherwise."
   ]
  },
  {
   "cell_type": "code",
   "execution_count": 26,
   "metadata": {
    "collapsed": true
   },
   "outputs": [
    {
     "name": "stdout",
     "output_type": "stream",
     "text": [
      "The distance between the two points is: 1.4142135623730951\n"
     ]
    }
   ],
   "source": [
    "# TYPE YOUR SOLUTION HERE\n",
    "\n",
    "A0 = 0\n",
    "B0 = 0\n",
    "A1 = 1\n",
    "B1 = 1\n",
    "\n",
    "if (A0 == A1) and (B0 == B1):\n",
    "    print(\"WARNING: The points have the same coordinates\")\n",
    "else:\n",
    "    distance = numpy.sqrt((A0-A1)**2+(B0-B1)**2)\n",
    "    print(f\"The distance between the two points is: {distance}\")"
   ]
  },
  {
   "cell_type": "markdown",
   "metadata": {},
   "source": [
    "### *TASK 3*\n",
    "\n",
    "Define and call a function computing the euclidean distance between two 2D points.\n",
    "\n",
    "**Advanced:** Save the function in another file called measure.py, import and call it."
   ]
  },
  {
   "cell_type": "code",
   "execution_count": 31,
   "metadata": {},
   "outputs": [
    {
     "name": "stdout",
     "output_type": "stream",
     "text": [
      "distance1: 1.4142135623730951\n",
      "distance2: 1.0\n",
      "WARNING: The points have the same coordinates\n",
      "distance3: None\n"
     ]
    }
   ],
   "source": [
    "# TYPE YOUR SOLUTION HERE\n",
    "\n",
    "def calculate_distance(A0, A1, B0, B1):\n",
    "    if (A0 == B0) and (A1 == B1):\n",
    "        print(\"WARNING: The points have the same coordinates\")\n",
    "        return\n",
    "    else:\n",
    "        distance = numpy.sqrt((A0-B0)**2+(A1-B1)**2)\n",
    "        return distance\n",
    "\n",
    "distance1 = calculate_distance(0, 0, 1, 1)\n",
    "print(f\"distance1: {distance1}\")\n",
    "\n",
    "distance2 = calculate_distance(0, 0, 0, 1)\n",
    "print(f\"distance2: {distance2}\")\n",
    "\n",
    "distance3 = calculate_distance(2, 2, 2, 2)\n",
    "print(f\"distance3: {distance3}\")\n"
   ]
  },
  {
   "cell_type": "code",
   "execution_count": 32,
   "metadata": {},
   "outputs": [
    {
     "name": "stdout",
     "output_type": "stream",
     "text": [
      "distance1: 1.4142135623730951\n",
      "distance2: 1.0\n",
      "WARNING: The points have the same coordinates\n",
      "distance3: None\n"
     ]
    }
   ],
   "source": [
    "import module_SOLVED\n",
    "\n",
    "distance1 = module_SOLVED.calculate_distance(0, 0, 1, 1)\n",
    "print(f\"distance1: {distance1}\")\n",
    "\n",
    "distance2 = module_SOLVED.calculate_distance(0, 0, 0, 1)\n",
    "print(f\"distance2: {distance2}\")\n",
    "\n",
    "distance3 = module_SOLVED.calculate_distance(2, 2, 2, 2)\n",
    "print(f\"distance3: {distance3}\")\n"
   ]
  },
  {
   "cell_type": "markdown",
   "metadata": {},
   "source": [
    "### *TASK 4*\n",
    "\n",
    "Define and call a function computing the euclidean distance between two 2D points. Represent points as lists containing 2 elements (i.e. x and y coordinate)."
   ]
  },
  {
   "cell_type": "code",
   "execution_count": 33,
   "metadata": {},
   "outputs": [
    {
     "name": "stdout",
     "output_type": "stream",
     "text": [
      "distance1: 1.4142135623730951\n",
      "distance2: 1.0\n",
      "WARNING: The points have the same coordinates\n",
      "distance3: None\n"
     ]
    }
   ],
   "source": [
    "def calculate_distance_lists(p1, p2):\n",
    "    if (p1[0] == p2[0]) and (p1[1] == p2[1]):\n",
    "        print(\"WARNING: The points have the same coordinates\")\n",
    "        return\n",
    "    else:\n",
    "        distance = numpy.sqrt((p1[0]-p2[0])**2+(p1[1]-p2[1])**2)\n",
    "        return distance\n",
    "    \n",
    "distance1 = calculate_distance_lists([0, 0], [1, 1])\n",
    "print(f\"distance1: {distance1}\")\n",
    "\n",
    "distance2 = calculate_distance_lists([0, 0], [0, 1])\n",
    "print(f\"distance2: {distance2}\")\n",
    "\n",
    "distance3 = calculate_distance_lists([2, 2], [2, 2])\n",
    "print(f\"distance3: {distance3}\")"
   ]
  },
  {
   "cell_type": "markdown",
   "metadata": {},
   "source": [
    "### *TASK 5*\n",
    "\n",
    "Define and call a function computing the euclidean distance between two n-dimensional points. Represent point coordinates as lists, i.e. ``p1=[0,0,…]``, ``p2=[1,1,…]``.\n",
    "\n",
    "*Hint:* you will need a loop!\n",
    "\n",
    "**Advanced:** Make sure that lists have the same lengths."
   ]
  },
  {
   "cell_type": "code",
   "execution_count": 42,
   "metadata": {},
   "outputs": [
    {
     "name": "stdout",
     "output_type": "stream",
     "text": [
      "distance1: 1.4142135623730951\n",
      "distance2: 1.0\n",
      "WARNING: The points have the same coordinates\n",
      "distance3: None\n",
      "distance4: 2.8284271247461903\n",
      "distance5: 4.47213595499958\n"
     ]
    }
   ],
   "source": [
    "def calculate_distance_any_dim(p1, p2):\n",
    "    ndims = len(p1)\n",
    "    same = True\n",
    "    for i in range(ndims):\n",
    "        same = same and (p1[i] == p2[i])\n",
    "    if same:\n",
    "        print(\"WARNING: The points have the same coordinates\")\n",
    "        return\n",
    "    else:\n",
    "        sum_of_squares = 0.\n",
    "        for i in range(ndims):\n",
    "            sum_of_squares += (p1[i]-p2[i])**2\n",
    "        distance = sum_of_squares**(0.5)\n",
    "        return distance\n",
    "    \n",
    "distance1 = calculate_distance_any_dim([0, 0], [1, 1])\n",
    "print(f\"distance1: {distance1}\")\n",
    "\n",
    "distance2 = calculate_distance_any_dim([0, 0], [0, 1])\n",
    "print(f\"distance2: {distance2}\")\n",
    "\n",
    "distance3 = calculate_distance_any_dim([2, 2], [2, 2])\n",
    "print(f\"distance3: {distance3}\")\n",
    "\n",
    "distance4 = calculate_distance_any_dim([1, 2, 3], [3, 2, 1])\n",
    "print(f\"distance4: {distance4}\")\n",
    "\n",
    "distance5 = calculate_distance_any_dim([1, 2, 3, 4], [4, 3, 2, 1])\n",
    "print(f\"distance5: {distance5}\")"
   ]
  },
  {
   "cell_type": "markdown",
   "metadata": {},
   "source": [
    "### *TASK 6*\n",
    "\n",
    "The function below writes a list of point coordinates ``points=[[A0, A1], [B0, B1], ...]`` to a text file. By default the name of the generated text file is ``coords.txt``. The coordinates are written in the follwoing format:\n",
    "\n",
    "```\n",
    "A0 A1\n",
    "B0 B1\n",
    "C0 C1\n",
    "...\n",
    "```\n",
    "\n",
    "Write a function that reads such a file and returns again the list of point coordinates. Make sure that the point coordinates have the data type ``float``.\n",
    "\n",
    "**Advanced:** Confirm whether all read coordinates are matching the input coordinates by comparing with the values in ``points``. "
   ]
  },
  {
   "cell_type": "code",
   "execution_count": 88,
   "metadata": {},
   "outputs": [],
   "source": [
    "def write_coords(points, filename='coords.txt'):\n",
    "    \"\"\"\n",
    "    Writes coordinate from list points=[[A0, A1], [B0, B1], ...] to a text file.\n",
    "    \"\"\"\n",
    "    lines = []\n",
    "    with open(filename, 'w') as file:\n",
    "        for coords in points:\n",
    "            line = ''\n",
    "            for coord in coords:\n",
    "                line += f\"{coord} \"\n",
    "            line = line[:-1] + '\\n'\n",
    "            lines.append(line)\n",
    "        file.writelines(lines)\n",
    "    return None\n",
    "\n",
    "def read_coords(filename='coords.txt'):\n",
    "    \"\"\"\n",
    "    Read coordinate from a text file.\n",
    "    \"\"\"\n",
    "    points = []\n",
    "    with open(filename, 'r') as file:\n",
    "        lines = file.readlines()\n",
    "        for line in lines:\n",
    "            x, y = line[:-1].split(\" \")\n",
    "            x = float(x)\n",
    "            y = float(y)\n",
    "            points.append([x, y])\n",
    "    return points"
   ]
  },
  {
   "cell_type": "code",
   "execution_count": 89,
   "metadata": {},
   "outputs": [],
   "source": [
    "points_input = [[1.1, 2.1],\n",
    "                [3.2, 2.1]]"
   ]
  },
  {
   "cell_type": "code",
   "execution_count": 90,
   "metadata": {},
   "outputs": [],
   "source": [
    "# Write coordinates of points to file\n",
    "write_coords(points_input)"
   ]
  },
  {
   "cell_type": "code",
   "execution_count": 91,
   "metadata": {},
   "outputs": [
    {
     "name": "stdout",
     "output_type": "stream",
     "text": [
      "[[1.1, 2.1], [3.2, 2.1]]\n",
      "[[1.1, 2.1], [3.2, 2.1]]\n"
     ]
    }
   ],
   "source": [
    "# Reading coordinates of points from file\n",
    "points_output = read_coords()\n",
    "\n",
    "print(points_input)\n",
    "print(points_output)"
   ]
  },
  {
   "cell_type": "code",
   "execution_count": 99,
   "metadata": {},
   "outputs": [
    {
     "name": "stdout",
     "output_type": "stream",
     "text": [
      "Input: [[1.1, 2.1], [3.2, 2.1]]\n",
      "Output: [[1.1, 2.1], [3.2, 2.1]]\n"
     ]
    }
   ],
   "source": [
    "# Compare point coordinates of input and output\n",
    "print(f\"Input: {points_input}\")\n",
    "print(f\"Output: {points_output}\")\n",
    "\n",
    "assert len(points_input) == len(points_output), \"Numbers of input and output points do not match\"\n",
    "number_of_points = len(points_input)\n",
    "\n",
    "# Look up machine epsilon (maximum rounding error for floats (64 bit floating point values)\n",
    "import numpy\n",
    "eps = numpy.finfo('float').eps\n",
    "\n",
    "for i in range(number_of_points):\n",
    "    assert abs(points_input[i][0] - points_output[i][0]) < eps, \"Mismatch in X coordinates\"\n",
    "    assert abs(points_input[i][1] - points_output[i][1]) < eps, \"Mismatch in Y coordinates\""
   ]
  }
 ],
 "metadata": {
  "kernelspec": {
   "display_name": "Python 3",
   "language": "python",
   "name": "python3"
  },
  "language_info": {
   "codemirror_mode": {
    "name": "ipython",
    "version": 3
   },
   "file_extension": ".py",
   "mimetype": "text/x-python",
   "name": "python",
   "nbconvert_exporter": "python",
   "pygments_lexer": "ipython3",
   "version": "3.6.4"
  }
 },
 "nbformat": 4,
 "nbformat_minor": 2
}
