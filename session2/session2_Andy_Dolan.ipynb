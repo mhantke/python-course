{
 "cells": [
  {
   "cell_type": "markdown",
   "metadata": {},
   "source": [
    "Author: **Andy Dolan**"
   ]
  },
  {
   "cell_type": "markdown",
   "metadata": {},
   "source": [
    "# 2. Using Python"
   ]
  },
  {
   "cell_type": "markdown",
   "metadata": {},
   "source": [
    "### Goals\n",
    "\n",
    "\n",
    "- learn to solve simple problems in *Python* \n",
    "- learn how to write/read a text file"
   ]
  },
  {
   "cell_type": "markdown",
   "metadata": {},
   "source": [
    "Recommended resource: https://www.tutorialspoint.com/python/"
   ]
  },
  {
   "cell_type": "markdown",
   "metadata": {},
   "source": [
    "### Introduction\n",
    "\n",
    "The 2D euclidian distance between two points $A=(A_0, A_1)$ and $B=(B_0, B_1)$ is calculated as:\n",
    "$$\\left|AB\\right|=\\sqrt{(A_0-B_0)^2+(A_1-B_1)^2}$$\n",
    "\n",
    "The general formula for $n$-dimensional points is\n",
    "$$\\left|AB\\right|=\\sqrt{\\sum_{i=0}^{n-1}(A_i-B_i)^2}$$\n",
    "\n",
    "*Note:* In most programming languages, one starts counting from 0… so dimensions go from $0$ to $n-1$, and not from $1$ to $n$."
   ]
  },
  {
   "cell_type": "markdown",
   "metadata": {},
   "source": [
    "### *TASK 1*\n",
    "\n",
    "Compute and print the euclidean distance between two 2D points $(A_0,B_0)=(0,0)$ and $(A_1,B_1)=(1,1)$.\n",
    "\n",
    "*Hint:* $\\sqrt{a}=a^{\\frac{1}{2}}$"
   ]
  },
  {
   "cell_type": "code",
   "execution_count": 1,
   "metadata": {
    "collapsed": false
   },
   "outputs": [
    {
     "name": "stdout",
     "output_type": "stream",
     "text": [
      "1.4142135623730951\n"
     ]
    }
   ],
   "source": [
    "a0 = 0\n",
    "a1 = 0\n",
    "b0 = 1\n",
    "b1 = 1\n",
    "\n",
    "ab0 = (a0 - b0)**2\n",
    "ab1 = (a1 - b1)**2\n",
    "\n",
    "#print (ab0) I think there's a change in nomenclature in the question by accident, you actually asked us to compute distance between (0,1) and (0,1). \n",
    "# because the nature of the points are redefined halfway through the question (a0,a1) (b0,b1), to (ao, bo) (a1, b1)\n",
    "#print (ab1)\n",
    "\n",
    "d = (ab0 + ab1)**0.5\n",
    "\n",
    "print (d)"
   ]
  },
  {
   "cell_type": "markdown",
   "metadata": {},
   "source": [
    "### *TASK 2*\n",
    "\n",
    "Compute the euclidean distance between two 2D points, print a warning signal if the points have the same coordinates, print the distance otherwise."
   ]
  },
  {
   "cell_type": "code",
   "execution_count": 2,
   "metadata": {
    "collapsed": true
   },
   "outputs": [
    {
     "name": "stdout",
     "output_type": "stream",
     "text": [
      "1.4142135623730951\n"
     ]
    }
   ],
   "source": [
    "a0 = 0\n",
    "a1 = 0\n",
    "b0 = 1\n",
    "b1 = 1\n",
    "\n",
    "if a0 == b0 and a1 == b1:\n",
    "    print(\"Warning! The coordinates are the same!\")\n",
    "else:\n",
    "    ab0 = (a0 - b0)**2\n",
    "    ab1 = (a1 - b1)**2\n",
    "\n",
    "    d = (ab0 + ab1)**0.5\n",
    "\n",
    "    print (d)"
   ]
  },
  {
   "cell_type": "markdown",
   "metadata": {},
   "source": [
    "### *TASK 3*\n",
    "\n",
    "Define and call a function computing the euclidean distance between two 2D points.\n",
    "\n",
    "**Advanced:** Save the function in another file called measure.py, import and call it."
   ]
  },
  {
   "cell_type": "code",
   "execution_count": 3,
   "metadata": {},
   "outputs": [],
   "source": [
    "def distance(a0, a1, b0, b1):\n",
    "    if a0 == b0 and a1 == b1:\n",
    "        print(\"Warning! The coordinates are the same!\")\n",
    "    else:\n",
    "        ab0 = (a0 - b0)**2\n",
    "        ab1 = (a1 - b1)**2\n",
    "        d = (ab0 + ab1)**0.5\n",
    "    return d"
   ]
  },
  {
   "cell_type": "markdown",
   "metadata": {},
   "source": [
    "### *TASK 4*\n",
    "\n",
    "Define and call a function computing the euclidean distance between two 2D points. Represent points as lists containing 2 elements (i.e. x and y coordinate)."
   ]
  },
  {
   "cell_type": "code",
   "execution_count": 35,
   "metadata": {},
   "outputs": [
    {
     "name": "stdout",
     "output_type": "stream",
     "text": [
      "3.605551275463989\n"
     ]
    }
   ],
   "source": [
    "import measure_AndyDolan\n",
    "\n",
    "x = measure_AndyDolan.distance2([0, 0], [3, 2])\n",
    "\n",
    "print(x)"
   ]
  },
  {
   "cell_type": "markdown",
   "metadata": {},
   "source": [
    "### *TASK 5*\n",
    "\n",
    "Define and call a function computing the euclidean distance between two n-dimensional points. Represent point coordinates as lists, i.e. ``p1=[0,0,…]``, ``p2=[1,1,…]``.\n",
    "\n",
    "*Hint:* you will need a loop!\n",
    "\n",
    "**Advanced:** Make sure that lists have the same lengths."
   ]
  },
  {
   "cell_type": "code",
   "execution_count": 12,
   "metadata": {
    "collapsed": false
   },
   "outputs": [
    {
     "name": "stdout",
     "output_type": "stream",
     "text": [
      "4.47213595499958\n"
     ]
    }
   ],
   "source": [
    "#This task sucks. I can't make it sum the outputs as it loops, all I get is the output of the last loop.\n",
    "\n",
    "p1 = [1,2,3,4]\n",
    "p2 = [4,3,2,1]\n",
    "\n",
    "\n",
    "#p3 = len(p1) - 1\n",
    "# def distance1(A, B):\n",
    "#         for i in range(len(p1)):\n",
    "#             return (A[i]-B[i]**2)\n",
    "\n",
    "# print (distance)\n",
    "\n",
    "\n",
    "#Maybe I can put in a dictionary {a : p1, b : p2} then operate on that?\n",
    "#Or concatenate the lists p12 [[0,4],[1,3],[2,2]...] then operate on that?\n",
    "\n",
    "def distance(p1, p2):\n",
    "    if p1 != p2:\n",
    "        distance = 0.\n",
    "        for i in range(len(p1)):\n",
    "            distance += (p1[i] - p2[i])**2\n",
    "        distance = distance**0.5\n",
    "        return distance\n",
    "    # return ((p1[i] - p2[i])**2 + (p1[i+1] - p2[i+1])**2)**0.5\n",
    "    else:\n",
    "        print (\"Warning, coordinates are the same\")\n",
    "\n",
    "        \n",
    "print (distance(p1, p2))\n",
    "\n",
    "    "
   ]
  },
  {
   "cell_type": "code",
   "execution_count": null,
   "metadata": {},
   "outputs": [],
   "source": []
  },
  {
   "cell_type": "code",
   "execution_count": 13,
   "metadata": {},
   "outputs": [
    {
     "name": "stdout",
     "output_type": "stream",
     "text": [
      "[-3 -1  1  3]\n",
      "[9 1 1 9]\n",
      "4.47213595499958\n"
     ]
    }
   ],
   "source": [
    "import numpy\n",
    "\n",
    "p1 = numpy.array([1,2,3,4])\n",
    "p2 = numpy.array([4,3,2,1])\n",
    "\n",
    "print (p1 - p2)\n",
    "\n",
    "p3 = (p1 - p2)**2\n",
    "\n",
    "print (p3)\n",
    "\n",
    "print((p3.sum())**0.5)"
   ]
  },
  {
   "cell_type": "markdown",
   "metadata": {},
   "source": [
    "### *TASK 6*\n",
    "\n",
    "The function below writes a list of point coordinates ``points=[[A0, A1], [B0, B1], ...]`` to a text file. By default the name of the generated text file is ``coords.txt``. The coordinates are written in the follwoing format:\n",
    "\n",
    "```\n",
    "A0 A1\n",
    "B0 B1\n",
    "C0 C1\n",
    "...\n",
    "```\n",
    "\n",
    "Write a function that reads such a file and returns again the list of point coordinates. Make sure that the point coordinates have the data type ``float``.\n",
    "\n",
    "**Advanced:** Confirm whether all read coordinates are matching the input coordinates by comparing with the values in ``points``. "
   ]
  },
  {
   "cell_type": "code",
   "execution_count": 45,
   "metadata": {},
   "outputs": [],
   "source": [
    "def write_coords(points, filename='coords.txt'):\n",
    "    \"\"\"\n",
    "    Writes coordinate from list points=[[A0, A1], [B0, B1], ...] to a text file.\n",
    "    \"\"\"\n",
    "    lines = []\n",
    "    with open(filename, 'w') as file:\n",
    "        for coords in points:\n",
    "            line = ''\n",
    "            for coord in coords:\n",
    "                line += f\"{coord} \"\n",
    "            line = line[:-1] + '\\n'\n",
    "            lines.append(line)\n",
    "        file.writelines(lines)\n",
    "    return None"
   ]
  },
  {
   "cell_type": "code",
   "execution_count": 63,
   "metadata": {},
   "outputs": [],
   "source": [
    "points1 = [[1.1, 2.1],\n",
    "           [3.2, 2.1]]"
   ]
  },
  {
   "cell_type": "code",
   "execution_count": null,
   "metadata": {},
   "outputs": [],
   "source": [
    "# TYPE YOUR SOLUTION HERE"
   ]
  }
 ],
 "metadata": {
  "kernelspec": {
   "display_name": "Python 3",
   "language": "python",
   "name": "python3"
  },
  "language_info": {
   "codemirror_mode": {
    "name": "ipython",
    "version": 3
   },
   "file_extension": ".py",
   "mimetype": "text/x-python",
   "name": "python",
   "nbconvert_exporter": "python",
   "pygments_lexer": "ipython3",
   "version": "3.7.0"
  }
 },
 "nbformat": 4,
 "nbformat_minor": 2
}
