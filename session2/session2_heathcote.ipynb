{
 "cells": [
  {
   "cell_type": "markdown",
   "metadata": {},
   "source": [
    "Author: **David Heathcote**"
   ]
  },
  {
   "cell_type": "markdown",
   "metadata": {},
   "source": [
    "# 2. Using Python"
   ]
  },
  {
   "cell_type": "markdown",
   "metadata": {},
   "source": [
    "### Goals\n",
    "\n",
    "\n",
    "- learn to solve simple problems in *Python* \n",
    "- learn how to write/read a text file"
   ]
  },
  {
   "cell_type": "markdown",
   "metadata": {},
   "source": [
    "Recommended resource: https://www.tutorialspoint.com/python/"
   ]
  },
  {
   "cell_type": "markdown",
   "metadata": {},
   "source": [
    "### Introduction\n",
    "\n",
    "The 2D euclidian distance between two points $A=(A_0, A_1)$ and $B=(B_0, B_1)$ is calculated as:\n",
    "$$\\left|AB\\right|=\\sqrt{(A_0-B_0)^2+(A_1-B_1)^2}$$\n",
    "\n",
    "The general formula for $n$-dimensional points is\n",
    "$$\\left|AB\\right|=\\sqrt{\\sum_{i=0}^{n-1}(A_i-B_i)^2}$$\n",
    "\n",
    "*Note:* In most programming languages, one starts counting from 0… so dimensions go from $0$ to $n-1$, and not from $1$ to $n$."
   ]
  },
  {
   "cell_type": "markdown",
   "metadata": {},
   "source": [
    "### *TASK 1*\n",
    "\n",
    "Compute and print the euclidean distance between two 2D points $(A_0,B_0)=(0,0)$ and $(A_1,B_1)=(1,1)$.\n",
    "\n",
    "*Hint:* $\\sqrt{a}=a^{\\frac{1}{2}}$"
   ]
  },
  {
   "cell_type": "code",
   "execution_count": 1,
   "metadata": {},
   "outputs": [
    {
     "name": "stdout",
     "output_type": "stream",
     "text": [
      "0.0\n"
     ]
    }
   ],
   "source": [
    "#Set point A and B coordinates\n",
    "A = (0,1)\n",
    "B = (0,1)\n",
    "\n",
    "distance = 0\n",
    "\n",
    "if len(A) == len(B):\n",
    "    for i in range(len(A)):\n",
    "        #Sum the difference in squares for each dimension\n",
    "        distance += (A[i]-B[i])**2\n",
    "\n",
    "    #Square root sum of difference of squares to get true distance\n",
    "    distance = distance**0.5\n",
    "    print(distance)\n",
    "else:\n",
    "    print('A and B have different dimensions.')"
   ]
  },
  {
   "cell_type": "markdown",
   "metadata": {},
   "source": [
    "### *TASK 2*\n",
    "\n",
    "Compute the euclidean distance between two 2D points, print a warning signal if the points have the same coordinates, print the distance otherwise."
   ]
  },
  {
   "cell_type": "code",
   "execution_count": 2,
   "metadata": {},
   "outputs": [
    {
     "name": "stdout",
     "output_type": "stream",
     "text": [
      "Warining: Coordinates are the same, hence distance is zero.\n"
     ]
    }
   ],
   "source": [
    "#Set point A and B coordinates\n",
    "A = (0,1)\n",
    "B = (0,1)\n",
    "\n",
    "distance = 0\n",
    "\n",
    "if len(A) == len(B):\n",
    "    for i in range(len(A)):\n",
    "        #Sum the difference in squares for each dimension\n",
    "        distance += (A[i]-B[i])**2\n",
    "\n",
    "    #Square root sum of difference of squares to get true distance\n",
    "    distance = distance**0.5\n",
    "    if distance == 0:\n",
    "        print('Warining: Coordinates are the same, hence distance is zero.')\n",
    "    else:\n",
    "        print(distance)\n",
    "else:\n",
    "    print('A and B have different dimensions.')"
   ]
  },
  {
   "cell_type": "markdown",
   "metadata": {},
   "source": [
    "### *TASK 3*\n",
    "\n",
    "Define and call a function computing the euclidean distance between two 2D points.\n",
    "\n",
    "**Advanced:** Save the function in another file called measure.py, import and call it."
   ]
  },
  {
   "cell_type": "code",
   "execution_count": 3,
   "metadata": {},
   "outputs": [
    {
     "name": "stdout",
     "output_type": "stream",
     "text": [
      "1.4142135623730951\n"
     ]
    }
   ],
   "source": [
    "def calculate_distance(A, B):\n",
    "    #Calculates the euclidean difference between n-dimentional points A and B\n",
    "    distance = 0\n",
    "\n",
    "    if len(A) == len(B):\n",
    "        for i in range(len(A)):\n",
    "            #Sum the difference in squares for each dimension\n",
    "            distance += (A[i]-B[i])**2\n",
    "\n",
    "        #Square root sum of difference of squares to get true distance\n",
    "        distance = distance**0.5\n",
    "        if distance == 0:\n",
    "            print('Warining: Coordinates are the same, hence distance is zero.')\n",
    "        else:\n",
    "            print(distance)\n",
    "    else:\n",
    "        print('A and B have different dimensions.')\n",
    "    \n",
    "#Set point A and B coordinates\n",
    "point_A = (0,0)\n",
    "point_B = (1,1)    \n",
    "\n",
    "calculate_distance(point_A, point_B)"
   ]
  },
  {
   "cell_type": "code",
   "execution_count": 4,
   "metadata": {},
   "outputs": [
    {
     "name": "stdout",
     "output_type": "stream",
     "text": [
      "1.4142135623730951\n"
     ]
    }
   ],
   "source": [
    "import measure_heathcote as measure\n",
    "\n",
    "#Set point A and B coordinates\n",
    "point_A = (0,0)\n",
    "point_B = (1,1)\n",
    "\n",
    "measure.calculate_distance(point_A, point_B)"
   ]
  },
  {
   "cell_type": "markdown",
   "metadata": {},
   "source": [
    "### *TASK 4*\n",
    "\n",
    "Define and call a function computing the euclidean distance between two 2D points. Represent points as lists containing 2 elements (i.e. x and y coordinate)."
   ]
  },
  {
   "cell_type": "code",
   "execution_count": 5,
   "metadata": {},
   "outputs": [
    {
     "name": "stdout",
     "output_type": "stream",
     "text": [
      "1.4142135623730951\n"
     ]
    }
   ],
   "source": [
    "import measure_heathcote as measure\n",
    "\n",
    "#Set point A and B coordinates\n",
    "point_A = [0,0]\n",
    "point_B = [1,1]\n",
    "\n",
    "measure.calculate_distance(point_A, point_B)"
   ]
  },
  {
   "cell_type": "markdown",
   "metadata": {},
   "source": [
    "### *TASK 5*\n",
    "\n",
    "Define and call a function computing the euclidean distance between two n-dimensional points. Represent point coordinates as lists, i.e. ``p1=[0,0,…]``, ``p2=[1,1,…]``.\n",
    "\n",
    "*Hint:* you will need a loop!\n",
    "\n",
    "**Advanced:** Make sure that lists have the same lengths."
   ]
  },
  {
   "cell_type": "code",
   "execution_count": 6,
   "metadata": {},
   "outputs": [
    {
     "name": "stdout",
     "output_type": "stream",
     "text": [
      "1.4142135623730951\n"
     ]
    }
   ],
   "source": [
    "import measure_heathcote as measure\n",
    "\n",
    "#Set point A and B coordinates\n",
    "point_A = (0,0)\n",
    "point_B = (1,1)\n",
    "\n",
    "measure.calculate_distance(point_A, point_B)"
   ]
  },
  {
   "cell_type": "markdown",
   "metadata": {},
   "source": [
    "### *TASK 6*\n",
    "\n",
    "The function below writes a list of point coordinates ``points=[[A0, A1], [B0, B1], ...]`` to a text file. By default the name of the generated text file is ``coords.txt``. The coordinates are written in the follwoing format:\n",
    "\n",
    "```\n",
    "A0 A1\n",
    "B0 B1\n",
    "C0 C1\n",
    "...\n",
    "```\n",
    "\n",
    "Write a function that reads such a file and returns again the list of point coordinates. Make sure that the point coordinates have the data type ``float``.\n",
    "\n",
    "**Advanced:** Confirm whether all read coordinates are matching the input coordinates by comparing with the values in ``points``. "
   ]
  },
  {
   "cell_type": "code",
   "execution_count": 7,
   "metadata": {},
   "outputs": [],
   "source": [
    "def write_coords(points, filename='coords.txt'):\n",
    "    \"\"\"\n",
    "    Writes coordinate from list points=[[A0, A1], [B0, B1], ...] to a text file.\n",
    "    \"\"\"\n",
    "    lines = []\n",
    "    with open(filename, 'w') as file:\n",
    "        for coords in points:\n",
    "            line = ''\n",
    "            for coord in coords:\n",
    "                line += f\"{coord} \"\n",
    "            line = line[:-1] + '\\n'\n",
    "            lines.append(line)\n",
    "        file.writelines(lines)\n",
    "    return None"
   ]
  },
  {
   "cell_type": "code",
   "execution_count": 8,
   "metadata": {},
   "outputs": [],
   "source": [
    "points_to_write = [\n",
    "    [1.1, 2.1, 5.5, 4.3],\n",
    "    [3.2, 2.1, 9, 0.2],\n",
    "    [4.2, 5, 42.3, 4.3],\n",
    "    [6.7, 6.6, 9.3, 10.1]\n",
    "            ]\n",
    "# write_coords(points_to_write)"
   ]
  },
  {
   "cell_type": "code",
   "execution_count": 9,
   "metadata": {},
   "outputs": [
    {
     "name": "stdout",
     "output_type": "stream",
     "text": [
      "Read points match.\n"
     ]
    }
   ],
   "source": [
    "def read_coords(filename = 'coords.txt'):\n",
    "    \"\"\"\n",
    "    Reads coordinate from list points=[[A0, A1], [B0, B1], ...] to a text file.\n",
    "    \"\"\"\n",
    "    #Initialise list variable for the coordinate lists\n",
    "    read_points = []\n",
    "    \n",
    "    #Start a try statement to catch any errors from the float conversion and file opening\n",
    "    try:\n",
    "        #Open file\n",
    "        with open(filename, 'r') as coord_file:\n",
    "            #Loop through each line of the file, split into a list, convert to float, append to the read_coords variable\n",
    "            for line in coord_file:\n",
    "                read_points.append([float(i) for i in line.split(' ')])\n",
    "        \n",
    "    except ValueError:\n",
    "        print('Invalid input. Not a space-delimited list of floats.')\n",
    "        return -1\n",
    "        \n",
    "    except FileNotFoundError:\n",
    "        print('File not found.')\n",
    "        return -1\n",
    "    \n",
    "    return read_points\n",
    "                \n",
    "        \n",
    "points_read = read_coords('coords.txt')\n",
    "\n",
    "if points_read == points_to_write:\n",
    "    print('Read points match.')\n",
    "else:\n",
    "    print('Warning! Read points do not match.')"
   ]
  },
  {
   "cell_type": "code",
   "execution_count": null,
   "metadata": {},
   "outputs": [],
   "source": []
  }
 ],
 "metadata": {
  "kernelspec": {
   "display_name": "Python 3",
   "language": "python",
   "name": "python3"
  },
  "language_info": {
   "codemirror_mode": {
    "name": "ipython",
    "version": 3
   },
   "file_extension": ".py",
   "mimetype": "text/x-python",
   "name": "python",
   "nbconvert_exporter": "python",
   "pygments_lexer": "ipython3",
   "version": "3.6.6"
  }
 },
 "nbformat": 4,
 "nbformat_minor": 2
}
