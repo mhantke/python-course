{
 "cells": [
  {
   "cell_type": "markdown",
   "metadata": {},
   "source": [
    "Author: JennyHu"
   ]
  },
  {
   "cell_type": "markdown",
   "metadata": {},
   "source": [
    "# 2. Using Python"
   ]
  },
  {
   "cell_type": "markdown",
   "metadata": {},
   "source": [
    "### Goals\n",
    "\n",
    "\n",
    "- learn to solve simple problems in *Python* \n",
    "- learn how to write/read a text file"
   ]
  },
  {
   "cell_type": "markdown",
   "metadata": {},
   "source": [
    "Recommended resource: https://www.tutorialspoint.com/python/"
   ]
  },
  {
   "cell_type": "markdown",
   "metadata": {},
   "source": [
    "### Introduction\n",
    "\n",
    "The 2D euclidian distance between two points $A=(A_0, A_1)$ and $B=(B_0, B_1)$ is calculated as:\n",
    "$$\\left|AB\\right|=\\sqrt{(A_0-B_0)^2+(A_1-B_1)^2}$$\n",
    "\n",
    "The general formula for $n$-dimensional points is\n",
    "$$\\left|AB\\right|=\\sqrt{\\sum_{i=0}^{n-1}(A_i-B_i)^2}$$\n",
    "\n",
    "*Note:* In most programming languages, one starts counting from 0… so dimensions go from $0$ to $n-1$, and not from $1$ to $n$."
   ]
  },
  {
   "cell_type": "markdown",
   "metadata": {},
   "source": [
    "### *TASK 1*\n",
    "\n",
    "Compute and print the euclidean distance between two 2D points $(A_0,B_0)=(0,0)$ and $(A_1,B_1)=(1,1)$.\n",
    "\n",
    "*Hint:* $\\sqrt{a}=a^{\\frac{1}{2}}$"
   ]
  },
  {
   "cell_type": "code",
<<<<<<< HEAD
   "execution_count": 2,
=======
   "execution_count": 3,
>>>>>>> e42d069c904710ace9bbf1620cd5d7a5e73262a2
   "metadata": {
    "collapsed": false
   },
   "outputs": [
    {
     "name": "stdout",
     "output_type": "stream",
     "text": [
      "1.4142135623730951\n"
     ]
    }
   ],
   "source": [
<<<<<<< HEAD
    "A0, B0 = 0, 0\n",
    "A1, B1 = 1, 1\n",
    "\n",
    "distance = ((A0 - A1)**2 + (B0 - B1)**2)**0.5\n",
    "\n",
    "print(distance)"
=======
    "# TYPE YOUR SOLUTION HERE\n",
    "(A0,B0) = (0,0)\n",
    "(A1,B1) = (1,1)\n",
    "AB = ((A0-A1)**2 + (B0-B1)**2)**0.5\n",
    "print(AB)"
>>>>>>> e42d069c904710ace9bbf1620cd5d7a5e73262a2
   ]
  },
  {
   "cell_type": "markdown",
   "metadata": {},
   "source": [
    "### *TASK 2*\n",
    "\n",
    "Compute the euclidean distance between two 2D points, print a warning signal if the points have the same coordinates, print the distance otherwise."
   ]
  },
  {
   "cell_type": "code",
<<<<<<< HEAD
   "execution_count": 8,
=======
<<<<<<< HEAD
   "execution_count": 6,
=======
   "execution_count": 15,
>>>>>>> e42d069c904710ace9bbf1620cd5d7a5e73262a2
>>>>>>> 29af5d107bff2fcd9ccabfafe119ef9ee82ad9cf
   "metadata": {
    "collapsed": true
   },
   "outputs": [
    {
     "name": "stdout",
     "output_type": "stream",
     "text": [
<<<<<<< HEAD
      "2.23606797749979\n"
=======
      "1.4142135623730951\n"
>>>>>>> e42d069c904710ace9bbf1620cd5d7a5e73262a2
     ]
    }
   ],
   "source": [
<<<<<<< HEAD
=======
    "# TYPE YOUR SOLUTION HERE\n",
<<<<<<< HEAD
    "\n",
    "def distance(p1A0, p1B0, p2A1, p2B1):\n",
    "    value = ((p1A0 - p2A1)**2 + (p1B0 - p2B1)**2)**0.5\n",
    "    if p1A0 == p2A1 and p1B0 == p2B1:\n",
    "        print(\"Warning, points have the same coordinates\")\n",
    "    else:\n",
    "        print(value)\n",
    "        \n",
    "distance(2, 1, 0, 0)    "
=======
>>>>>>> 29af5d107bff2fcd9ccabfafe119ef9ee82ad9cf
    "(A0,B0) = (0,0)\n",
    "(A1,B1) = (1,1)\n",
    "dist = ((A0-A1)**2 + (B0-B1)**2) ** (1./2)\n",
    "if A0 == A1 and B0 == B1:\n",
    "    print('warning!! same coor')\n",
    "else:\n",
<<<<<<< HEAD
    "    print(dist)"
=======
    "    print(AB)"
>>>>>>> e42d069c904710ace9bbf1620cd5d7a5e73262a2
>>>>>>> 29af5d107bff2fcd9ccabfafe119ef9ee82ad9cf
   ]
  },
  {
   "cell_type": "markdown",
   "metadata": {},
   "source": [
    "### *TASK 3*\n",
    "\n",
    "Define and call a function computing the euclidean distance between two 2D points.\n",
    "\n",
    "**Advanced:** Save the function in another file called measure.py, import and call it."
   ]
  },
  {
   "cell_type": "code",
<<<<<<< HEAD
   "execution_count": 10,
   "metadata": {},
   "outputs": [],
   "source": [
    "def dist(A0,B0,A1,B1):\n",
    "    dist = ((A0-A1)**2 + (B0-B1)**2) ** (1./2)\n",
    "    return dist\n",
    "    "
=======
<<<<<<< HEAD
   "execution_count": 9,
   "metadata": {
    "collapsed": true
   },
   "outputs": [
    {
     "name": "stdout",
     "output_type": "stream",
     "text": [
      "2.23606797749979\n",
      "2.23606797749979\n"
     ]
    }
   ],
   "source": [
    "# same as above\n",
    "\n",
    "def distance(p1A0, p1B0, p2A1, p2B1):\n",
    "    value = ((p1A0 - p2A1)**2 + (p1B0 - p2B1)**2)**0.5\n",
    "    if p1A0 == p2A1 and p1B0 == p2B1:\n",
    "        print(\"Warning, points have the same coordinates\")\n",
    "    else:\n",
    "        print(value)\n",
    "        \n",
    "distance(2, 1, 0, 0)\n",
    "\n",
    "import measure_alastair as measure\n",
    "\n",
    "measure.distance(2, 1, 0, 0)\n",
    "\n"
=======
   "execution_count": 28,
   "metadata": {},
   "outputs": [
    {
     "data": {
      "text/plain": [
       "1.4142135623730951"
      ]
     },
     "execution_count": 28,
     "metadata": {},
     "output_type": "execute_result"
    }
   ],
   "source": [
    "# TYPE YOUR SOLUTION HERE\n",
    "\n",
    "def cal_dist(my_coordinates):\n",
    "    my_coordinates = [A0,B0,A1,B1]\n",
    "    AB = ((A0-A1)**2 + (B0-B1)**2)**0.5\n",
    "    return AB;\n",
    "\n",
    "my_coordinates = [0,0,1,1]\n",
    "cal_dist(my_coordinates)"
   ]
  },
  {
   "cell_type": "code",
   "execution_count": null,
   "metadata": {},
   "outputs": [],
   "source": [
    "Alternatively\n",
    "\n",
    "def cal_dist([A0,B0,A1,B1]):\n",
    "    AB = ((A0-A1)**2 + (B0-B1)**2)**0.5\n",
    "    return AB"
>>>>>>> e42d069c904710ace9bbf1620cd5d7a5e73262a2
>>>>>>> 29af5d107bff2fcd9ccabfafe119ef9ee82ad9cf
   ]
  },
  {
   "cell_type": "markdown",
   "metadata": {},
   "source": [
    "### *TASK 4*\n",
    "\n",
    "Define and call a function computing the euclidean distance between two 2D points. Represent points as lists containing 2 elements (i.e. x and y coordinate)."
   ]
  },
  {
   "cell_type": "code",
<<<<<<< HEAD
   "execution_count": 11,
   "metadata": {},
   "outputs": [
    {
     "name": "stdout",
     "output_type": "stream",
     "text": [
      "1.4142135623730951\n"
     ]
    }
   ],
   "source": [
    "def dist(P1,P2):\n",
    "    dist = ((P1[0]-P2[0])**2 + (P1[1]-P2[1])**2) ** (1./2)\n",
=======
<<<<<<< HEAD
   "execution_count": 18,
   "metadata": {},
   "outputs": [
    {
     "name": "stdout",
     "output_type": "stream",
     "text": [
      "2\n",
      "3.0\n"
     ]
=======
   "execution_count": 31,
   "metadata": {},
   "outputs": [
    {
     "data": {
      "text/plain": [
       "1.4142135623730951"
      ]
     },
     "execution_count": 31,
     "metadata": {},
     "output_type": "execute_result"
>>>>>>> e42d069c904710ace9bbf1620cd5d7a5e73262a2
    }
   ],
   "source": [
    "# TYPE YOUR SOLUTION HERE\n",
<<<<<<< HEAD
    "\n",
    "a = [5,2]\n",
    "b = [2,2]\n",
    "def dd(x1,x2,y1,y2):\n",
    "    value = ((x2 - x1)**2 + (y2 - y1)**2)**0.5\n",
    "    print(value)\n",
    "    \n",
    "    \n",
    "\n",
    "dd(a[0],b[0] ,a[1], b[1])"
=======
    "def distance(P1,P2):\n",
    "    dist = ((P1[0]-P2[0])**2 + (P1[1]-P2[1])**2)**0.5\n",
>>>>>>> 29af5d107bff2fcd9ccabfafe119ef9ee82ad9cf
    "    return dist\n",
    "P1 = [0,0]\n",
    "P2 = [1,1]\n",
<<<<<<< HEAD
    "distance = dist(P1,P2)\n",
    "print(distance)"
=======
    "distance(P1,P2)\n"
>>>>>>> e42d069c904710ace9bbf1620cd5d7a5e73262a2
>>>>>>> 29af5d107bff2fcd9ccabfafe119ef9ee82ad9cf
   ]
  },
  {
   "cell_type": "markdown",
   "metadata": {},
   "source": [
    "### *TASK 5*\n",
    "\n",
    "Define and call a function computing the euclidean distance between two n-dimensional points. Represent point coordinates as lists, i.e. ``p1=[0,0,…]``, ``p2=[1,1,…]``.\n",
    "\n",
    "*Hint:* you will need a loop!\n",
    "\n",
    "**Advanced:** Make sure that lists have the same lengths."
   ]
  },
  {
   "cell_type": "code",
<<<<<<< HEAD
   "execution_count": 26,
=======
   "execution_count": 88,
>>>>>>> e42d069c904710ace9bbf1620cd5d7a5e73262a2
   "metadata": {
    "collapsed": false
   },
   "outputs": [
    {
     "name": "stdout",
     "output_type": "stream",
     "text": [
      "5.385164807134504\n"
     ]
    }
   ],
   "source": [
<<<<<<< HEAD
    "def dist(P1,P2):\n",
    "    a = 0\n",
    "    for i in range(len(P1)):\n",
    "        a += (P1[i]-P2[i]) ** 2\n",
    "    return a ** (1./2)\n",
    "P1 = [0,0,0,0,0]\n",
    "P2 = [1,1,1,1,1]\n",
    "print(dist(P1,P2))"
=======
    "# TYPE YOUR SOLUTION HERE\n",
    "\n",
<<<<<<< HEAD
    "p1 = [0, 0, 0, 0, 0]\n",
    "p2 = [1, 1, 5, 1, 1]\n",
    "\n",
    " \n",
    "    \n",
    "def ddd(a, b):    \n",
    "    \n",
    "    distance = 0\n",
    "    \n",
    "    if len(a) == len(b):                       #Ensuring p1 and p2 have the same dimensions\n",
    "        for i in range(len(a)):                \n",
    "            distance += (a[i]-b[i])**2         #Sum the difference in squares for each dimension, += is the same as writing distance = distance + x...\n",
    "            \n",
    "        distance = distance**0.5\n",
    "        print(distance)\n",
    "    else:\n",
    "        print('p1 and p2 must have the same dimensions')\n",
    "    \n",
    "ddd(p1, p2)    "
=======
    "def distance(P1,P2):\n",
    "    summation = 0\n",
    "    for i in range(len(P1)):\n",
    "        result = (P1[i]+P2[i])**2\n",
    "        summation = summation + result\n",
    "    squareRoot = summation**0.5\n",
    "    print (squareRoot)\n",
    "        \n",
    "P1=[1,1,1]\n",
    "P2=[1,2,3]\n",
    "distance(P1,P2)\n",
    "        "
   ]
  },
  {
   "cell_type": "code",
   "execution_count": 59,
   "metadata": {},
   "outputs": [
    {
     "name": "stdout",
     "output_type": "stream",
     "text": [
      "4\n",
      "3\n",
      "2\n"
     ]
    }
   ],
   "source": [
    "# please ignore this!\n",
    "\n",
    "P1=[1,2,1]\n",
    "P2=[3,1,1]\n",
    "for i in range(len(P1)):\n",
    "    result = P1[i]+P2[i]\n",
    "    print(result)"
   ]
  },
  {
   "cell_type": "code",
   "execution_count": 74,
   "metadata": {},
   "outputs": [
    {
     "name": "stdout",
     "output_type": "stream",
     "text": [
      "27\n",
      "27\n",
      "23\n"
     ]
    }
   ],
   "source": [
    "# don't understand why this doesn't work \n",
    "\n",
    "P1=[2,2,1]\n",
    "P2=[19,21,26]\n",
    "for i in P1:\n",
    "    result = P1[i]+P2[i]\n",
    "    print(result)\n",
    "    \n",
    "？？？"
>>>>>>> e42d069c904710ace9bbf1620cd5d7a5e73262a2
>>>>>>> 29af5d107bff2fcd9ccabfafe119ef9ee82ad9cf
   ]
  },
  {
   "cell_type": "markdown",
   "metadata": {},
   "source": [
    "### *TASK 6*\n",
    "\n",
    "The function below writes a list of point coordinates ``points=[[A0, A1], [B0, B1], ...]`` to a text file. By default the name of the generated text file is ``coords.txt``. The coordinates are written in the following format:\n",
    "\n",
    "```\n",
    "A0 A1\n",
    "B0 B1\n",
    "C0 C1\n",
    "...\n",
    "```\n",
    "\n",
    "Write a function that reads such a file and returns again the list of point coordinates. Make sure that the point coordinates have the data type ``float``.\n",
    "\n",
    "**Advanced:** Confirm whether all read coordinates are matching the input coordinates by comparing with the values in ``points``. \n"
   ]
  },
  {
   "cell_type": "code",
   "execution_count": 31,
   "metadata": {},
   "outputs": [],
   "source": [
    "def write_coords(points, filename='coords.txt'):\n",
    "    \"\"\"\n",
    "    Writes coordinate from list points=[[A0, A1], [B0, B1], ...] to a text file.\n",
    "    \"\"\"\n",
    "    lines = []\n",
    "    with open(filename, 'w') as file:\n",
    "        for coords in points:\n",
    "            line = ''                       #line is empty string\n",
    "            for coord in coords:\n",
    "                line += f\"{coord} \"         # line = line plus coord\n",
    "            line = line[:-1] + '\\n'         #\n",
    "            lines.append(line)              #updates lines?\n",
    "        file.writelines(lines)\n",
    "    return None"
   ]
  },
  {
   "cell_type": "code",
   "execution_count": 28,
   "metadata": {},
   "outputs": [],
   "source": [
    "points1 = [[1.1, 2.1],\n",
    "           [3.2, 2.1]]"
   ]
  },
  {
   "cell_type": "code",
<<<<<<< HEAD
   "execution_count": 16,
   "metadata": {},
   "outputs": [
    {
     "ename": "SyntaxError",
     "evalue": "unexpected EOF while parsing (<ipython-input-16-732987a1263d>, line 4)",
     "output_type": "error",
     "traceback": [
      "\u001b[0;36m  File \u001b[0;32m\"<ipython-input-16-732987a1263d>\"\u001b[0;36m, line \u001b[0;32m4\u001b[0m\n\u001b[0;31m    \u001b[0m\n\u001b[0m    ^\u001b[0m\n\u001b[0;31mSyntaxError\u001b[0m\u001b[0;31m:\u001b[0m unexpected EOF while parsing\n"
     ]
    }
   ],
   "source": [
    "def read_coor(points):\n",
    "    with open('coords.txt', 'r') as file:\n",
    "        \n",
    "    "
=======
   "execution_count": 39,
   "metadata": {},
   "outputs": [
    {
     "data": {
      "text/plain": [
       "['1.1 2.1\\n', '3.2 2.1\\n']"
      ]
     },
     "execution_count": 39,
     "metadata": {},
     "output_type": "execute_result"
    }
   ],
   "source": [
    "# TYPE YOUR SOLUTION HERE\n",
    "def read_coords(filename='coords.txt'):\n",
    "    \n",
    "    with open(filename, 'r') as file:\n",
    "        cc = file.readlines()\n",
    "        return cc\n",
    "    \n",
    "read_coords()    \n"
>>>>>>> 29af5d107bff2fcd9ccabfafe119ef9ee82ad9cf
   ]
  },
  {
   "cell_type": "code",
   "execution_count": null,
   "metadata": {},
   "outputs": [],
   "source": []
  }
 ],
 "metadata": {
  "kernelspec": {
   "display_name": "Python 3",
   "language": "python",
   "name": "python3"
  },
  "language_info": {
   "codemirror_mode": {
    "name": "ipython",
    "version": 3
   },
   "file_extension": ".py",
   "mimetype": "text/x-python",
   "name": "python",
   "nbconvert_exporter": "python",
   "pygments_lexer": "ipython3",
<<<<<<< HEAD:session2/session2_alastairbaldry.ipynb
   "version": "3.6.6"
=======
   "version": "3.7.0"
>>>>>>> be340464a6bf9e1f9aeec32db32c3f9c0cf6688a:session2/session2_jennyHu.ipynb
  }
 },
 "nbformat": 4,
 "nbformat_minor": 2
}
