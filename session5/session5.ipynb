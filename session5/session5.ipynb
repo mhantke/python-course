{
 "cells": [
  {
   "cell_type": "markdown",
   "metadata": {},
   "source": [
    "Author: ****"
   ]
  },
  {
   "cell_type": "markdown",
   "metadata": {},
   "source": [
    "# 5. Analysing data frames with Pandas"
   ]
  },
  {
   "cell_type": "markdown",
   "metadata": {},
   "source": [
    "### Goals\n",
    "\n",
    "- learn the usage of pandas data frames\n",
    "- learn boolean indexing\n",
    "- some more plotting exercises"
   ]
  },
  {
   "cell_type": "markdown",
   "metadata": {},
   "source": [
    "### Introduction\n",
    "\n",
    "In this folder you will find the file ``weather.xlsx`` that contains with weather data from the last two weeks for Oxford and London. For each city there is one separate sheet in the Excel file.\n",
    "\n",
    "We will analyse and plot data from this file using the package pandas. Browse at least through the first chapters of this [web page](https://pandas.pydata.org/pandas-docs/stable/10min.html) that gives a very good introduction into the basic functionalities of pandas."
   ]
  },
  {
   "cell_type": "code",
   "execution_count": 1,
   "metadata": {},
   "outputs": [
    {
     "name": "stdout",
     "output_type": "stream",
     "text": [
      "Populating the interactive namespace from numpy and matplotlib\n"
     ]
    }
   ],
   "source": [
    "# This magic import imports all maths functions from numpy and plotting functions from matplotlib and activates inline plotting\n",
    "%pylab inline\n",
    "# Importing Pandas\n",
    "import pandas as pd"
   ]
  },
  {
   "cell_type": "markdown",
   "metadata": {},
   "source": [
    "### *TASK 1*\n",
    "\n",
    "Use the function ``pd.read_excel`` that creates a data frame object from an excel file. Create one data frame ``df_o`` for the Oxford weather data and ``df_l`` for the London data. Loop up help with ``pd.read_excel?``. After successful creation of the data frames make use of the **TAB** key for investigating what the data frame object can do. "
   ]
  },
  {
   "cell_type": "code",
   "execution_count": 12,
   "metadata": {},
   "outputs": [],
   "source": [
    "# TYPE YOUR SOLUTION HERE"
   ]
  },
  {
   "cell_type": "markdown",
   "metadata": {},
   "source": [
    "### *TASK 2*\n",
    "\n",
    "1. Inspect df.columns of the data frames and look up the column name for the temperature data.\n",
    "\n",
    "2. Plot the evolution of temperature for both cities into the same plot. Make sure the time axes match. *Note*: The two tables do not cover exactly the same time windows. Use *boolean indexing* (check the tutorial link above) to crop out only the days that are fully covered by both data sets.  \n",
    "\n",
    "3. Try out the data frame method ``df_o.describe()``. Identify the warmest and the coldest time points and add vertical lines to the plots to highlight these time points.\n",
    "\n",
    "4. Calculate and plot the difference in temperature of data recorded in Oxford and London."
   ]
  },
  {
   "cell_type": "code",
   "execution_count": 17,
   "metadata": {},
   "outputs": [],
   "source": [
    "# TYPE YOUR SOLUTION HERE"
   ]
  }
 ],
 "metadata": {
  "kernelspec": {
   "display_name": "Python 3",
   "language": "python",
   "name": "python3"
  },
  "language_info": {
   "codemirror_mode": {
    "name": "ipython",
    "version": 3
   },
   "file_extension": ".py",
   "mimetype": "text/x-python",
   "name": "python",
   "nbconvert_exporter": "python",
   "pygments_lexer": "ipython3",
   "version": "3.6.4"
  }
 },
 "nbformat": 4,
 "nbformat_minor": 2
}
